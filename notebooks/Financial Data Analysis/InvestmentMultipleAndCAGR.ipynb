{
 "cells": [
  {
   "cell_type": "markdown",
   "id": "74e19f3d-ecf3-48e0-a51c-661733a4dec5",
   "metadata": {},
   "source": [
    "# Invesment multiple and CAGR"
   ]
  },
  {
   "cell_type": "code",
   "execution_count": 2,
   "id": "8b3abdcf-9c51-4344-9a5b-f4e5875ae78c",
   "metadata": {},
   "outputs": [],
   "source": [
    "import pandas as pd\n",
    "import numpy as np\n",
    "import matplotlib.pyplot as plt\n",
    "pd.options.display.float_format = '{:.4f}'.format\n",
    "plt.style.use(\"seaborn-v0_8\")"
   ]
  },
  {
   "cell_type": "code",
   "execution_count": null,
   "id": "0822e76d-a852-45d3-9e31-a3a6464f1370",
   "metadata": {},
   "outputs": [],
   "source": [
    "msft = pd.read_csv(\"msft.csv\", index_col = \"Date\", parse_dates = [\"Date\"])\n",
    "msft"
   ]
  },
  {
   "cell_type": "code",
   "execution_count": 4,
   "id": "a5f684cb-7ec0-44ff-871c-1bdda0c07c67",
   "metadata": {},
   "outputs": [
    {
     "data": {
      "text/plain": [
       "5.224836587184114"
      ]
     },
     "execution_count": 4,
     "metadata": {},
     "output_type": "execute_result"
    }
   ],
   "source": [
    "multiple = (msft.Price[-1] / msft.Price[0])\n",
    "multiple"
   ]
  },
  {
   "cell_type": "code",
   "execution_count": 5,
   "id": "7f546c0f-a376-438c-9543-a16b45468986",
   "metadata": {},
   "outputs": [
    {
     "data": {
      "text/plain": [
       "422.48365871841133"
      ]
     },
     "execution_count": 5,
     "metadata": {},
     "output_type": "execute_result"
    }
   ],
   "source": [
    "(multiple - 1) * 100"
   ]
  },
  {
   "cell_type": "markdown",
   "id": "fff3d603-4e29-4349-8a0f-c71e3747a0fa",
   "metadata": {},
   "source": [
    "#### Compound Annual Growth Rate (CAGR): \n",
    "The constant (annual) rate of return that would be required for an investment to grow from its beginning value to its ending value, assuming the profits were reinvested at the end of each year"
   ]
  },
  {
   "cell_type": "code",
   "execution_count": 6,
   "id": "c980962a-721d-48f4-8adf-bd175536ab90",
   "metadata": {},
   "outputs": [
    {
     "data": {
      "text/plain": [
       "Timestamp('2014-10-01 00:00:00')"
      ]
     },
     "execution_count": 6,
     "metadata": {},
     "output_type": "execute_result"
    }
   ],
   "source": [
    "start = msft.index[0]\n",
    "start"
   ]
  },
  {
   "cell_type": "code",
   "execution_count": 7,
   "id": "fcabad33-b4b5-4451-b2a4-361a6a7342a0",
   "metadata": {},
   "outputs": [
    {
     "data": {
      "text/plain": [
       "Timestamp('2022-12-30 00:00:00')"
      ]
     },
     "execution_count": 7,
     "metadata": {},
     "output_type": "execute_result"
    }
   ],
   "source": [
    "end = msft.index[-1]\n",
    "end"
   ]
  },
  {
   "cell_type": "code",
   "execution_count": 8,
   "id": "6aea2b14-0618-439e-8d3b-21299faef10b",
   "metadata": {},
   "outputs": [
    {
     "data": {
      "text/plain": [
       "Timedelta('3012 days 00:00:00')"
      ]
     },
     "execution_count": 8,
     "metadata": {},
     "output_type": "execute_result"
    }
   ],
   "source": [
    "td = end - start\n",
    "td"
   ]
  },
  {
   "cell_type": "code",
   "execution_count": 14,
   "id": "213fb444-3b20-44a9-8779-ea869c6d23ec",
   "metadata": {},
   "outputs": [
    {
     "data": {
      "text/plain": [
       "8.24640657084189"
      ]
     },
     "execution_count": 14,
     "metadata": {},
     "output_type": "execute_result"
    }
   ],
   "source": [
    "td_years = td.days / 365.25\n",
    "td_years"
   ]
  },
  {
   "cell_type": "code",
   "execution_count": 15,
   "id": "835dbff3-63d8-431d-b327-cd8c1e9d8513",
   "metadata": {},
   "outputs": [
    {
     "data": {
      "text/plain": [
       "0.22201642850465308"
      ]
     },
     "execution_count": 15,
     "metadata": {},
     "output_type": "execute_result"
    }
   ],
   "source": [
    "cagr = multiple**(1 / td_years) - 1 #Caluclate CAGR with just numbers\n",
    "cagr"
   ]
  },
  {
   "cell_type": "code",
   "execution_count": 16,
   "id": "166eb41d-11f9-40e1-9df0-c933f4080474",
   "metadata": {},
   "outputs": [
    {
     "data": {
      "text/plain": [
       "0.22201642850465308"
      ]
     },
     "execution_count": 16,
     "metadata": {},
     "output_type": "execute_result"
    }
   ],
   "source": [
    "cagr = (msft.Price[-1]/msft.Price[0])**(1/((msft.index[-1] - msft.index[0]).days / 365.25))-1 # Calculate CAGR directly from a data frame \n",
    "cagr"
   ]
  },
  {
   "cell_type": "code",
   "execution_count": 18,
   "id": "3eed6959-7428-4aff-ba6d-023b5adbc3b9",
   "metadata": {},
   "outputs": [
    {
     "data": {
      "text/plain": [
       "5.224836587184111"
      ]
     },
     "execution_count": 18,
     "metadata": {},
     "output_type": "execute_result"
    }
   ],
   "source": [
    "(1 + cagr)**(td_years) #alternate way to calculate multiple"
   ]
  },
  {
   "cell_type": "code",
   "execution_count": null,
   "id": "97669892-bd3c-4ce5-9f6d-1ec4b6eddcab",
   "metadata": {},
   "outputs": [],
   "source": []
  }
 ],
 "metadata": {
  "kernelspec": {
   "display_name": "Python 3 (ipykernel)",
   "language": "python",
   "name": "python3"
  },
  "language_info": {
   "codemirror_mode": {
    "name": "ipython",
    "version": 3
   },
   "file_extension": ".py",
   "mimetype": "text/x-python",
   "name": "python",
   "nbconvert_exporter": "python",
   "pygments_lexer": "ipython3",
   "version": "3.10.4"
  }
 },
 "nbformat": 4,
 "nbformat_minor": 5
}

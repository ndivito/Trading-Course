{
 "cells": [
  {
   "cell_type": "code",
   "execution_count": 16,
   "id": "d5fcc7ed-03bb-46ef-8aa2-9b0d05b97e4f",
   "metadata": {
    "tags": []
   },
   "outputs": [],
   "source": [
    "import os\n",
    "import pandas as pd\n",
    "from binance.client import Client\n",
    "from binance import ThreadedWebsocketManager\n",
    "from datetime import datetime, timedelta\n"
   ]
  },
  {
   "cell_type": "code",
   "execution_count": 4,
   "id": "e75c61b8-e687-4c88-b989-28286fe44bd4",
   "metadata": {
    "tags": []
   },
   "outputs": [
    {
     "data": {
      "text/plain": [
       "'3aH1Gh3xf1fsOxDEPpDERmBZ1NXSryFeWx3obCBDD3JveNIvoKHWKRvW3AktNnS2'"
      ]
     },
     "execution_count": 4,
     "metadata": {},
     "output_type": "execute_result"
    }
   ],
   "source": [
    "API_KEY = os.getenv('TEST_KEY')\n",
    "API_SECRET = os.getenv('TEST_SECRET')\n",
    "API_KEY"
   ]
  },
  {
   "cell_type": "code",
   "execution_count": 5,
   "id": "63f4493c-a87e-4856-a827-b6cb518de021",
   "metadata": {},
   "outputs": [],
   "source": [
    "# Ensure that testnet is set to true !\n",
    "client = Client(api_key = API_KEY, api_secret = API_SECRET, tld = \"us\", testnet= True)"
   ]
  },
  {
   "cell_type": "code",
   "execution_count": 6,
   "id": "4188e502-8318-4e27-aaef-26fca8a14009",
   "metadata": {
    "tags": []
   },
   "outputs": [
    {
     "data": {
      "text/plain": [
       "{'makerCommission': 0,\n",
       " 'takerCommission': 0,\n",
       " 'buyerCommission': 0,\n",
       " 'sellerCommission': 0,\n",
       " 'commissionRates': {'maker': '0.00000000',\n",
       "  'taker': '0.00000000',\n",
       "  'buyer': '0.00000000',\n",
       "  'seller': '0.00000000'},\n",
       " 'canTrade': True,\n",
       " 'canWithdraw': False,\n",
       " 'canDeposit': False,\n",
       " 'brokered': False,\n",
       " 'requireSelfTradePrevention': False,\n",
       " 'updateTime': 1672685531162,\n",
       " 'accountType': 'SPOT',\n",
       " 'balances': [{'asset': 'BNB',\n",
       "   'free': '1000.00000000',\n",
       "   'locked': '0.00000000'},\n",
       "  {'asset': 'BTC', 'free': '1.00000000', 'locked': '0.00000000'},\n",
       "  {'asset': 'BUSD', 'free': '10000.00000000', 'locked': '0.00000000'},\n",
       "  {'asset': 'ETH', 'free': '100.00000000', 'locked': '0.00000000'},\n",
       "  {'asset': 'LTC', 'free': '500.00000000', 'locked': '0.00000000'},\n",
       "  {'asset': 'TRX', 'free': '500000.00000000', 'locked': '0.00000000'},\n",
       "  {'asset': 'USDT', 'free': '10000.00000000', 'locked': '0.00000000'},\n",
       "  {'asset': 'XRP', 'free': '50000.00000000', 'locked': '0.00000000'}],\n",
       " 'permissions': ['SPOT']}"
      ]
     },
     "execution_count": 6,
     "metadata": {},
     "output_type": "execute_result"
    }
   ],
   "source": [
    "client.get_account() #Test account details"
   ]
  },
  {
   "cell_type": "code",
   "execution_count": 7,
   "id": "570e7574-97e5-4014-acfd-959c07d52713",
   "metadata": {
    "tags": []
   },
   "outputs": [
    {
     "data": {
      "text/plain": [
       "'SPOT'"
      ]
     },
     "execution_count": 7,
     "metadata": {},
     "output_type": "execute_result"
    }
   ],
   "source": [
    "account = client.get_account()\n",
    "account[\"accountType\"]  #Account Type"
   ]
  },
  {
   "cell_type": "code",
   "execution_count": 17,
   "id": "e4c324ea-581c-41f5-a601-ac604eeadb37",
   "metadata": {},
   "outputs": [],
   "source": [
    "def get_history(symbol, interval, start, end = None):\n",
    "        bars = client.get_historical_klines(symbol = symbol, interval = interval,\n",
    "                                            start_str = start, end_str = end, limit = 1000)  # get the historical Klines with defined intervals \n",
    "        df = pd.DataFrame(bars)\n",
    "        df[\"Date\"] = pd.to_datetime(df.iloc[:,0], unit = \"ms\") #make the first column of unix time into meaningful timestamps\n",
    "        df.columns = [\"Open Time\", \"Open\", \"High\", \"Low\", \"Close\", \"Volume\", \"Close Time\", \"Quote Asset Volume\", \n",
    "                      \"Number of Trades\", \"Taker Buy Base Asset Volume\", \"Taker Buy Quote Asset Volume\", \"Ignore\", \"Date\"]  # rename columns for what we are going to use them\n",
    "        df = df[[\"Date\", \"Open\", \"High\", \"Low\", \"Close\", \"Volume\"]].copy() #take only the columns we care about\n",
    "        df.set_index(\"Date\", inplace = True) # make the date column the index column\n",
    "        for column in df.columns:\n",
    "            df[column] = pd.to_numeric(df[column], errors = \"coerce\")\n",
    "            \n",
    "        return df"
   ]
  },
  {
   "cell_type": "code",
   "execution_count": 18,
   "id": "c2ff28a7-618a-448a-8807-8134aef3c299",
   "metadata": {},
   "outputs": [
    {
     "data": {
      "text/html": [
       "<div>\n",
       "<style scoped>\n",
       "    .dataframe tbody tr th:only-of-type {\n",
       "        vertical-align: middle;\n",
       "    }\n",
       "\n",
       "    .dataframe tbody tr th {\n",
       "        vertical-align: top;\n",
       "    }\n",
       "\n",
       "    .dataframe thead th {\n",
       "        text-align: right;\n",
       "    }\n",
       "</style>\n",
       "<table border=\"1\" class=\"dataframe\">\n",
       "  <thead>\n",
       "    <tr style=\"text-align: right;\">\n",
       "      <th></th>\n",
       "      <th>asset</th>\n",
       "      <th>free</th>\n",
       "      <th>locked</th>\n",
       "    </tr>\n",
       "  </thead>\n",
       "  <tbody>\n",
       "    <tr>\n",
       "      <th>0</th>\n",
       "      <td>BNB</td>\n",
       "      <td>1000.00000000</td>\n",
       "      <td>0.00000000</td>\n",
       "    </tr>\n",
       "    <tr>\n",
       "      <th>1</th>\n",
       "      <td>BTC</td>\n",
       "      <td>1.00000000</td>\n",
       "      <td>0.00000000</td>\n",
       "    </tr>\n",
       "    <tr>\n",
       "      <th>2</th>\n",
       "      <td>BUSD</td>\n",
       "      <td>10000.00000000</td>\n",
       "      <td>0.00000000</td>\n",
       "    </tr>\n",
       "    <tr>\n",
       "      <th>3</th>\n",
       "      <td>ETH</td>\n",
       "      <td>100.00000000</td>\n",
       "      <td>0.00000000</td>\n",
       "    </tr>\n",
       "    <tr>\n",
       "      <th>4</th>\n",
       "      <td>LTC</td>\n",
       "      <td>500.00000000</td>\n",
       "      <td>0.00000000</td>\n",
       "    </tr>\n",
       "    <tr>\n",
       "      <th>5</th>\n",
       "      <td>TRX</td>\n",
       "      <td>500000.00000000</td>\n",
       "      <td>0.00000000</td>\n",
       "    </tr>\n",
       "    <tr>\n",
       "      <th>6</th>\n",
       "      <td>USDT</td>\n",
       "      <td>10000.00000000</td>\n",
       "      <td>0.00000000</td>\n",
       "    </tr>\n",
       "    <tr>\n",
       "      <th>7</th>\n",
       "      <td>XRP</td>\n",
       "      <td>50000.00000000</td>\n",
       "      <td>0.00000000</td>\n",
       "    </tr>\n",
       "  </tbody>\n",
       "</table>\n",
       "</div>"
      ],
      "text/plain": [
       "  asset             free      locked\n",
       "0   BNB    1000.00000000  0.00000000\n",
       "1   BTC       1.00000000  0.00000000\n",
       "2  BUSD   10000.00000000  0.00000000\n",
       "3   ETH     100.00000000  0.00000000\n",
       "4   LTC     500.00000000  0.00000000\n",
       "5   TRX  500000.00000000  0.00000000\n",
       "6  USDT   10000.00000000  0.00000000\n",
       "7   XRP   50000.00000000  0.00000000"
      ]
     },
     "execution_count": 18,
     "metadata": {},
     "output_type": "execute_result"
    }
   ],
   "source": [
    "df = pd.DataFrame(account[\"balances\"]) # extract balances from account\n",
    "df"
   ]
  },
  {
   "cell_type": "code",
   "execution_count": 19,
   "id": "52a5dc2e-d388-4454-9b02-2c07e4d70e8b",
   "metadata": {},
   "outputs": [
    {
     "name": "stdout",
     "output_type": "stream",
     "text": [
      "<class 'pandas.core.frame.DataFrame'>\n",
      "RangeIndex: 8 entries, 0 to 7\n",
      "Data columns (total 3 columns):\n",
      " #   Column  Non-Null Count  Dtype  \n",
      "---  ------  --------------  -----  \n",
      " 0   asset   8 non-null      object \n",
      " 1   free    8 non-null      float64\n",
      " 2   locked  8 non-null      float64\n",
      "dtypes: float64(2), object(1)\n",
      "memory usage: 320.0+ bytes\n"
     ]
    }
   ],
   "source": [
    "# Convert numbers to floats\n",
    "df[\"free\"] = pd.to_numeric(df[\"free\"], errors = \"coerce\")\n",
    "df[\"locked\"] = pd.to_numeric(df[\"locked\"], errors = \"coerce\")\n",
    "df.info()"
   ]
  },
  {
   "cell_type": "code",
   "execution_count": 20,
   "id": "afa259bc-dc9b-462a-8845-69896977c850",
   "metadata": {},
   "outputs": [
    {
     "data": {
      "text/plain": [
       "[{'symbol': 'BNBBUSD', 'price': '245.90000000'},\n",
       " {'symbol': 'BTCBUSD', 'price': '16693.91000000'},\n",
       " {'symbol': 'ETHBUSD', 'price': '1215.77000000'},\n",
       " {'symbol': 'LTCBUSD', 'price': '75.10000000'},\n",
       " {'symbol': 'TRXBUSD', 'price': '0.05514000'},\n",
       " {'symbol': 'XRPBUSD', 'price': '0.34570000'},\n",
       " {'symbol': 'BNBUSDT', 'price': '246.09000000'},\n",
       " {'symbol': 'BTCUSDT', 'price': '16699.52000000'},\n",
       " {'symbol': 'ETHUSDT', 'price': '1216.28000000'},\n",
       " {'symbol': 'LTCUSDT', 'price': '75.12000000'},\n",
       " {'symbol': 'TRXUSDT', 'price': '0.05515000'},\n",
       " {'symbol': 'XRPUSDT', 'price': '0.34590000'},\n",
       " {'symbol': 'BNBBTC', 'price': '0.01473100'},\n",
       " {'symbol': 'ETHBTC', 'price': '0.07281900'},\n",
       " {'symbol': 'LTCBTC', 'price': '0.00449900'},\n",
       " {'symbol': 'TRXBTC', 'price': '0.00000331'},\n",
       " {'symbol': 'XRPBTC', 'price': '0.00002072'},\n",
       " {'symbol': 'LTCBNB', 'price': '0.30570000'},\n",
       " {'symbol': 'TRXBNB', 'price': '0.00022420'},\n",
       " {'symbol': 'XRPBNB', 'price': '0.00140700'}]"
      ]
     },
     "execution_count": 20,
     "metadata": {},
     "output_type": "execute_result"
    }
   ],
   "source": [
    "#Get prices for all testnet pairs\n",
    "client.get_all_tickers()"
   ]
  },
  {
   "cell_type": "code",
   "execution_count": 21,
   "id": "27e7d43c-d1d4-4e0f-bbc9-489055c9f90c",
   "metadata": {},
   "outputs": [
    {
     "data": {
      "text/plain": [
       "{'symbol': 'BTCUSDT',\n",
       " 'priceChange': '111.47000000',\n",
       " 'priceChangePercent': '0.672',\n",
       " 'weightedAvgPrice': '16691.76655215',\n",
       " 'prevClosePrice': '16587.83000000',\n",
       " 'lastPrice': '16699.06000000',\n",
       " 'lastQty': '0.00100000',\n",
       " 'bidPrice': '16699.06000000',\n",
       " 'bidQty': '0.01851000',\n",
       " 'askPrice': '16699.30000000',\n",
       " 'askQty': '0.17006800',\n",
       " 'openPrice': '16587.59000000',\n",
       " 'highPrice': '17898.53000000',\n",
       " 'lowPrice': '8290.64000000',\n",
       " 'volume': '7304.21126000',\n",
       " 'quoteVolume': '121920189.19948064',\n",
       " 'openTime': 1672621154597,\n",
       " 'closeTime': 1672707554597,\n",
       " 'firstId': 2149033,\n",
       " 'lastId': 2256063,\n",
       " 'count': 107031}"
      ]
     },
     "execution_count": 21,
     "metadata": {},
     "output_type": "execute_result"
    }
   ],
   "source": [
    "last24 = client.get_ticker(symbol = \"BTCUSDT\") #24 Price change statistic\n",
    "last24"
   ]
  },
  {
   "cell_type": "code",
   "execution_count": 22,
   "id": "29ec9cd6-8946-4330-adff-e24fb1f33864",
   "metadata": {},
   "outputs": [
    {
     "data": {
      "text/plain": [
       "Timestamp('2023-01-02 00:59:14.597000')"
      ]
     },
     "execution_count": 22,
     "metadata": {},
     "output_type": "execute_result"
    }
   ],
   "source": [
    "pd.to_datetime(last24[\"openTime\"], unit = \"ms\") # Show datetime in a readable format"
   ]
  },
  {
   "cell_type": "code",
   "execution_count": 23,
   "id": "4047fc01-ec96-455e-ad12-8400ce55126f",
   "metadata": {},
   "outputs": [
    {
     "data": {
      "text/plain": [
       "Timestamp('2022-12-14 00:00:00')"
      ]
     },
     "execution_count": 23,
     "metadata": {},
     "output_type": "execute_result"
    }
   ],
   "source": [
    "timestamp = client._get_earliest_valid_timestamp(symbol = \"BTCUSDT\", interval = \"1d\") #earliest available data will reset every month\n",
    "pd.to_datetime(timestamp, unit = \"ms\") # Show datetime in a readable format"
   ]
  },
  {
   "cell_type": "code",
   "execution_count": 27,
   "id": "7d3c0eba-b893-40bf-962d-5e38ffc5b7ff",
   "metadata": {},
   "outputs": [
    {
     "data": {
      "text/html": [
       "<div>\n",
       "<style scoped>\n",
       "    .dataframe tbody tr th:only-of-type {\n",
       "        vertical-align: middle;\n",
       "    }\n",
       "\n",
       "    .dataframe tbody tr th {\n",
       "        vertical-align: top;\n",
       "    }\n",
       "\n",
       "    .dataframe thead th {\n",
       "        text-align: right;\n",
       "    }\n",
       "</style>\n",
       "<table border=\"1\" class=\"dataframe\">\n",
       "  <thead>\n",
       "    <tr style=\"text-align: right;\">\n",
       "      <th></th>\n",
       "      <th>Open</th>\n",
       "      <th>High</th>\n",
       "      <th>Low</th>\n",
       "      <th>Close</th>\n",
       "      <th>Volume</th>\n",
       "    </tr>\n",
       "    <tr>\n",
       "      <th>Date</th>\n",
       "      <th></th>\n",
       "      <th></th>\n",
       "      <th></th>\n",
       "      <th></th>\n",
       "      <th></th>\n",
       "    </tr>\n",
       "  </thead>\n",
       "  <tbody>\n",
       "    <tr>\n",
       "      <th>2022-12-14</th>\n",
       "      <td>17837.75</td>\n",
       "      <td>50000.00</td>\n",
       "      <td>11960.00</td>\n",
       "      <td>17795.18</td>\n",
       "      <td>4428.098892</td>\n",
       "    </tr>\n",
       "    <tr>\n",
       "      <th>2022-12-15</th>\n",
       "      <td>17795.18</td>\n",
       "      <td>18952.74</td>\n",
       "      <td>16831.78</td>\n",
       "      <td>17357.11</td>\n",
       "      <td>7740.685182</td>\n",
       "    </tr>\n",
       "    <tr>\n",
       "      <th>2022-12-16</th>\n",
       "      <td>17357.49</td>\n",
       "      <td>17525.00</td>\n",
       "      <td>16342.69</td>\n",
       "      <td>16630.42</td>\n",
       "      <td>8635.080110</td>\n",
       "    </tr>\n",
       "    <tr>\n",
       "      <th>2022-12-17</th>\n",
       "      <td>16630.72</td>\n",
       "      <td>17376.90</td>\n",
       "      <td>5312.94</td>\n",
       "      <td>16776.19</td>\n",
       "      <td>7435.010972</td>\n",
       "    </tr>\n",
       "    <tr>\n",
       "      <th>2022-12-18</th>\n",
       "      <td>16776.61</td>\n",
       "      <td>17134.31</td>\n",
       "      <td>5000.00</td>\n",
       "      <td>16738.62</td>\n",
       "      <td>6363.810820</td>\n",
       "    </tr>\n",
       "    <tr>\n",
       "      <th>2022-12-19</th>\n",
       "      <td>16738.61</td>\n",
       "      <td>16907.00</td>\n",
       "      <td>10000.00</td>\n",
       "      <td>16439.51</td>\n",
       "      <td>7505.842789</td>\n",
       "    </tr>\n",
       "    <tr>\n",
       "      <th>2022-12-20</th>\n",
       "      <td>16439.51</td>\n",
       "      <td>17055.56</td>\n",
       "      <td>6000.00</td>\n",
       "      <td>16896.24</td>\n",
       "      <td>8441.694337</td>\n",
       "    </tr>\n",
       "    <tr>\n",
       "      <th>2022-12-21</th>\n",
       "      <td>16896.19</td>\n",
       "      <td>17095.64</td>\n",
       "      <td>5000.00</td>\n",
       "      <td>16826.39</td>\n",
       "      <td>6965.755353</td>\n",
       "    </tr>\n",
       "    <tr>\n",
       "      <th>2022-12-22</th>\n",
       "      <td>16825.18</td>\n",
       "      <td>16867.03</td>\n",
       "      <td>4001.00</td>\n",
       "      <td>16821.02</td>\n",
       "      <td>7266.582324</td>\n",
       "    </tr>\n",
       "    <tr>\n",
       "      <th>2022-12-23</th>\n",
       "      <td>16821.12</td>\n",
       "      <td>16916.28</td>\n",
       "      <td>9097.74</td>\n",
       "      <td>16778.53</td>\n",
       "      <td>7175.373021</td>\n",
       "    </tr>\n",
       "    <tr>\n",
       "      <th>2022-12-24</th>\n",
       "      <td>16778.51</td>\n",
       "      <td>16927.34</td>\n",
       "      <td>9097.74</td>\n",
       "      <td>16835.49</td>\n",
       "      <td>6218.964464</td>\n",
       "    </tr>\n",
       "    <tr>\n",
       "      <th>2022-12-25</th>\n",
       "      <td>16836.12</td>\n",
       "      <td>17150.18</td>\n",
       "      <td>6200.00</td>\n",
       "      <td>16831.40</td>\n",
       "      <td>6233.397178</td>\n",
       "    </tr>\n",
       "    <tr>\n",
       "      <th>2022-12-26</th>\n",
       "      <td>16831.73</td>\n",
       "      <td>16936.90</td>\n",
       "      <td>16332.55</td>\n",
       "      <td>16918.10</td>\n",
       "      <td>7445.772967</td>\n",
       "    </tr>\n",
       "    <tr>\n",
       "      <th>2022-12-27</th>\n",
       "      <td>16918.25</td>\n",
       "      <td>20000.00</td>\n",
       "      <td>16593.58</td>\n",
       "      <td>16705.85</td>\n",
       "      <td>8743.390816</td>\n",
       "    </tr>\n",
       "    <tr>\n",
       "      <th>2022-12-28</th>\n",
       "      <td>16705.96</td>\n",
       "      <td>16961.35</td>\n",
       "      <td>16469.29</td>\n",
       "      <td>16547.00</td>\n",
       "      <td>9024.041761</td>\n",
       "    </tr>\n",
       "    <tr>\n",
       "      <th>2022-12-29</th>\n",
       "      <td>16547.46</td>\n",
       "      <td>17013.40</td>\n",
       "      <td>16000.00</td>\n",
       "      <td>16634.57</td>\n",
       "      <td>7867.440803</td>\n",
       "    </tr>\n",
       "    <tr>\n",
       "      <th>2022-12-30</th>\n",
       "      <td>16634.22</td>\n",
       "      <td>17631.58</td>\n",
       "      <td>3363.60</td>\n",
       "      <td>16607.62</td>\n",
       "      <td>8423.800987</td>\n",
       "    </tr>\n",
       "    <tr>\n",
       "      <th>2022-12-31</th>\n",
       "      <td>16607.96</td>\n",
       "      <td>17814.89</td>\n",
       "      <td>15578.49</td>\n",
       "      <td>16539.85</td>\n",
       "      <td>6310.444008</td>\n",
       "    </tr>\n",
       "    <tr>\n",
       "      <th>2023-01-01</th>\n",
       "      <td>16539.85</td>\n",
       "      <td>17861.06</td>\n",
       "      <td>15276.19</td>\n",
       "      <td>16617.05</td>\n",
       "      <td>6080.355282</td>\n",
       "    </tr>\n",
       "    <tr>\n",
       "      <th>2023-01-02</th>\n",
       "      <td>16617.18</td>\n",
       "      <td>17320.00</td>\n",
       "      <td>8290.64</td>\n",
       "      <td>16672.96</td>\n",
       "      <td>7238.953840</td>\n",
       "    </tr>\n",
       "    <tr>\n",
       "      <th>2023-01-03</th>\n",
       "      <td>16672.82</td>\n",
       "      <td>17898.53</td>\n",
       "      <td>16650.32</td>\n",
       "      <td>16697.61</td>\n",
       "      <td>323.672164</td>\n",
       "    </tr>\n",
       "  </tbody>\n",
       "</table>\n",
       "</div>"
      ],
      "text/plain": [
       "                Open      High       Low     Close       Volume\n",
       "Date                                                           \n",
       "2022-12-14  17837.75  50000.00  11960.00  17795.18  4428.098892\n",
       "2022-12-15  17795.18  18952.74  16831.78  17357.11  7740.685182\n",
       "2022-12-16  17357.49  17525.00  16342.69  16630.42  8635.080110\n",
       "2022-12-17  16630.72  17376.90   5312.94  16776.19  7435.010972\n",
       "2022-12-18  16776.61  17134.31   5000.00  16738.62  6363.810820\n",
       "2022-12-19  16738.61  16907.00  10000.00  16439.51  7505.842789\n",
       "2022-12-20  16439.51  17055.56   6000.00  16896.24  8441.694337\n",
       "2022-12-21  16896.19  17095.64   5000.00  16826.39  6965.755353\n",
       "2022-12-22  16825.18  16867.03   4001.00  16821.02  7266.582324\n",
       "2022-12-23  16821.12  16916.28   9097.74  16778.53  7175.373021\n",
       "2022-12-24  16778.51  16927.34   9097.74  16835.49  6218.964464\n",
       "2022-12-25  16836.12  17150.18   6200.00  16831.40  6233.397178\n",
       "2022-12-26  16831.73  16936.90  16332.55  16918.10  7445.772967\n",
       "2022-12-27  16918.25  20000.00  16593.58  16705.85  8743.390816\n",
       "2022-12-28  16705.96  16961.35  16469.29  16547.00  9024.041761\n",
       "2022-12-29  16547.46  17013.40  16000.00  16634.57  7867.440803\n",
       "2022-12-30  16634.22  17631.58   3363.60  16607.62  8423.800987\n",
       "2022-12-31  16607.96  17814.89  15578.49  16539.85  6310.444008\n",
       "2023-01-01  16539.85  17861.06  15276.19  16617.05  6080.355282\n",
       "2023-01-02  16617.18  17320.00   8290.64  16672.96  7238.953840\n",
       "2023-01-03  16672.82  17898.53  16650.32  16697.61   323.672164"
      ]
     },
     "execution_count": 27,
     "metadata": {},
     "output_type": "execute_result"
    }
   ],
   "source": [
    "df = get_history(symbol = \"BTCUSDT\", interval = \"1d\", start = timestamp)\n",
    "df"
   ]
  },
  {
   "cell_type": "code",
   "execution_count": 33,
   "id": "4ba72a47-8dea-496e-9783-9d3b52098b71",
   "metadata": {},
   "outputs": [],
   "source": [
    "def stream_data(msg):\n",
    "    '''define how to process incoming websocket messages'''\n",
    "    time = pd.to_datetime(msg[\"E\"], unit=\"ms\")\n",
    "    price = msg[\"c\"]\n",
    "    \n",
    "    print(\"Time: {} | Price: {}\".format(time, price))"
   ]
  },
  {
   "cell_type": "code",
   "execution_count": 29,
   "id": "5aa85f9a-42fe-4182-a00b-e2e9cd598177",
   "metadata": {},
   "outputs": [],
   "source": [
    "#initialize and start the websocket\n",
    "twm = ThreadedWebsocketManager(tld = \"us\")\n",
    "twm.start()"
   ]
  },
  {
   "cell_type": "code",
   "execution_count": 34,
   "id": "7aeef7c8-69cb-4864-841e-e19433e1e8aa",
   "metadata": {},
   "outputs": [
    {
     "data": {
      "text/plain": [
       "'btcusd@miniTicker'"
      ]
     },
     "execution_count": 34,
     "metadata": {},
     "output_type": "execute_result"
    }
   ],
   "source": [
    "twm.start_symbol_miniticker_socket(callback = stream_data, symbol = \"BTCUSD\")"
   ]
  },
  {
   "cell_type": "code",
   "execution_count": 32,
   "id": "86aa9786-923c-4968-9b70-e2caba9ed5b4",
   "metadata": {},
   "outputs": [],
   "source": [
    "twm.stop() #stop the websocket/stream"
   ]
  },
  {
   "cell_type": "code",
   "execution_count": null,
   "id": "0f7a8e00-23c3-4a7d-830c-5aa546e27188",
   "metadata": {},
   "outputs": [],
   "source": []
  }
 ],
 "metadata": {
  "kernelspec": {
   "display_name": "Python 3 (ipykernel)",
   "language": "python",
   "name": "python3"
  },
  "language_info": {
   "codemirror_mode": {
    "name": "ipython",
    "version": 3
   },
   "file_extension": ".py",
   "mimetype": "text/x-python",
   "name": "python",
   "nbconvert_exporter": "python",
   "pygments_lexer": "ipython3",
   "version": "3.10.4"
  }
 },
 "nbformat": 4,
 "nbformat_minor": 5
}

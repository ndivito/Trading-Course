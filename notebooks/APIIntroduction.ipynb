{
 "cells": [
  {
   "cell_type": "code",
   "execution_count": 4,
   "id": "8ad6a28d-c2f6-4071-9029-7273352d8411",
   "metadata": {},
   "outputs": [],
   "source": [
    "import os\n",
    "from binance.client import Client"
   ]
  },
  {
   "cell_type": "code",
   "execution_count": 5,
   "id": "1252fb6a-3f49-4781-b5a9-9bb912043d88",
   "metadata": {},
   "outputs": [],
   "source": [
    "API_KEY = os.getenv('BINANCE_API')\n",
    "API_SECRET = os.getenv('BINANCE_SECRET')"
   ]
  },
  {
   "cell_type": "code",
   "execution_count": 7,
   "id": "925abc7b-9ba4-425c-9787-9748f9016d6a",
   "metadata": {},
   "outputs": [],
   "source": [
    "client = Client(api_key = API_KEY, api_secret = API_SECRET, tld = \"us\")"
   ]
  },
  {
   "cell_type": "code",
   "execution_count": null,
   "id": "eefd6806-ab57-45f8-aec6-e11013a5a6fa",
   "metadata": {},
   "outputs": [],
   "source": [
    "client.get_account()"
   ]
  },
  {
   "cell_type": "code",
   "execution_count": null,
   "id": "88d7dadf-96e3-4320-8e22-bc54c3af0935",
   "metadata": {},
   "outputs": [],
   "source": []
  }
 ],
 "metadata": {
  "kernelspec": {
   "display_name": "Python 3 (ipykernel)",
   "language": "python",
   "name": "python3"
  },
  "language_info": {
   "codemirror_mode": {
    "name": "ipython",
    "version": 3
   },
   "file_extension": ".py",
   "mimetype": "text/x-python",
   "name": "python",
   "nbconvert_exporter": "python",
   "pygments_lexer": "ipython3",
   "version": "3.10.4"
  }
 },
 "nbformat": 4,
 "nbformat_minor": 5
}

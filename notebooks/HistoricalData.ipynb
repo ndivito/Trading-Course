{
 "cells": [
  {
   "cell_type": "code",
   "execution_count": 3,
   "id": "715c8275-eabe-4403-a09f-5dc27ce0fa95",
   "metadata": {},
   "outputs": [],
   "source": [
    "import os\n",
    "import pandas as pd\n",
    "from binance.client import Client"
   ]
  },
  {
   "cell_type": "code",
   "execution_count": 4,
   "id": "66d908b0-4b5b-4a11-aed4-9531056eb119",
   "metadata": {
    "tags": []
   },
   "outputs": [],
   "source": [
    "API_KEY = os.getenv('BINANCE_API')\n",
    "API_SECRET = os.getenv('BINANCE_SECRET')"
   ]
  },
  {
   "cell_type": "code",
   "execution_count": 5,
   "id": "a8a13937-9b2c-406d-9876-b16b3a145fe9",
   "metadata": {},
   "outputs": [],
   "source": [
    "client = Client(api_key = API_KEY, api_secret = API_SECRET, tld = \"us\")"
   ]
  },
  {
   "cell_type": "code",
   "execution_count": 6,
   "id": "ca6347c9-e5ff-4ffe-b542-439ffc46daec",
   "metadata": {},
   "outputs": [
    {
     "data": {
      "text/plain": [
       "{}"
      ]
     },
     "execution_count": 6,
     "metadata": {},
     "output_type": "execute_result"
    }
   ],
   "source": [
    "client.ping()"
   ]
  },
  {
   "cell_type": "code",
   "execution_count": 7,
   "id": "45c9cb60-ae8e-489b-986e-ed07e93f1acc",
   "metadata": {},
   "outputs": [
    {
     "data": {
      "text/plain": [
       "{'serverTime': 1672091351684}"
      ]
     },
     "execution_count": 7,
     "metadata": {},
     "output_type": "execute_result"
    }
   ],
   "source": [
    "client.get_server_time()"
   ]
  },
  {
   "cell_type": "code",
   "execution_count": 8,
   "id": "22b5dae7-58d1-469f-bbde-4a232a7fd64a",
   "metadata": {
    "tags": []
   },
   "outputs": [
    {
     "data": {
      "text/plain": [
       "'SPOT'"
      ]
     },
     "execution_count": 8,
     "metadata": {},
     "output_type": "execute_result"
    }
   ],
   "source": [
    "account = client.get_account()\n",
    "account[\"accountType\"]  #Account Type"
   ]
  },
  {
   "cell_type": "code",
   "execution_count": 31,
   "id": "93fda2c6-3fff-4dc5-8d6e-08288a6a547a",
   "metadata": {},
   "outputs": [
    {
     "ename": "SyntaxError",
     "evalue": "invalid syntax. Perhaps you forgot a comma? (2723980266.py, line 2)",
     "output_type": "error",
     "traceback": [
      "\u001b[0;36m  Cell \u001b[0;32mIn[31], line 2\u001b[0;36m\u001b[0m\n\u001b[0;31m    bars = client.get_historical_klines(symbol = symbol, interval = interval\u001b[0m\n\u001b[0m                                                                    ^\u001b[0m\n\u001b[0;31mSyntaxError\u001b[0m\u001b[0;31m:\u001b[0m invalid syntax. Perhaps you forgot a comma?\n"
     ]
    }
   ],
   "source": [
    "def get_history(symbol, interval, start, end = None):\n",
    "        bars = client.get_historical_klines(symbol = symbol, interval = interval\n",
    "                                            start_str = start, end_str = end, limit = 1000)  # get the historical Klines with defined intervals \n",
    "        df = pd.DataFrame(bars)\n",
    "        df[\"Date\"] = pd.to_datetime(df.iloc[:,0], unit = \"ms\") #make the first column of unix time into meaningful timestamps\n",
    "        df.columns = [\"Open Time\", \"Open\", \"High\", \"Low\", \"Close\", \"Volume\", \"Close Time\", \"Quote Asset Volume\", \n",
    "                      \"Number of Trades\", \"Taker Buy Base Asset Volume\", \"Taker Buy Quote Asset Volume\", \"Ignore\", \"Date\"]  # rename columns for what we are going to use them\n",
    "        df = df[[\"Date\", \"Open\", \"High\", \"Low\", \"Close\", \"Volume\"]].copy() #take only the columns we care about\n",
    "        df.set_index(\"Date\", inplace = True) # make the date column the index column\n",
    "        for column in df.columns:\n",
    "            df[column] = pd.to_numeric(df[column], errors = \"coerce\")\n",
    "            \n",
    "        return df"
   ]
  },
  {
   "cell_type": "code",
   "execution_count": 29,
   "id": "8200c630-69d5-44a0-98b5-a1d5cf9473ee",
   "metadata": {},
   "outputs": [
    {
     "data": {
      "text/plain": [
       "1569196800000"
      ]
     },
     "execution_count": 29,
     "metadata": {},
     "output_type": "execute_result"
    }
   ],
   "source": [
    "timestamp"
   ]
  },
  {
   "cell_type": "code",
   "execution_count": 30,
   "id": "7b43482e-7b9b-4df9-a4ea-e0171b43fd56",
   "metadata": {},
   "outputs": [
    {
     "ename": "NameError",
     "evalue": "name 'get_history' is not defined",
     "output_type": "error",
     "traceback": [
      "\u001b[0;31m---------------------------------------------------------------------------\u001b[0m",
      "\u001b[0;31mNameError\u001b[0m                                 Traceback (most recent call last)",
      "Cell \u001b[0;32mIn[30], line 1\u001b[0m\n\u001b[0;32m----> 1\u001b[0m df \u001b[38;5;241m=\u001b[39m \u001b[43mget_history\u001b[49m(symbol \u001b[38;5;241m=\u001b[39m \u001b[38;5;124m\"\u001b[39m\u001b[38;5;124mBTCUSDT\u001b[39m\u001b[38;5;124m\"\u001b[39m, interval \u001b[38;5;241m=\u001b[39m \u001b[38;5;124m\"\u001b[39m\u001b[38;5;124m1d\u001b[39m\u001b[38;5;124m\"\u001b[39m, start \u001b[38;5;241m=\u001b[39m timestamp)\n\u001b[1;32m      2\u001b[0m df\n",
      "\u001b[0;31mNameError\u001b[0m: name 'get_history' is not defined"
     ]
    }
   ],
   "source": [
    "df = get_history(symbol = \"BTCUSDT\", interval = \"1d\", start = timestamp)\n",
    "df"
   ]
  }
 ],
 "metadata": {
  "kernelspec": {
   "display_name": "Python 3 (ipykernel)",
   "language": "python",
   "name": "python3"
  },
  "language_info": {
   "codemirror_mode": {
    "name": "ipython",
    "version": 3
   },
   "file_extension": ".py",
   "mimetype": "text/x-python",
   "name": "python",
   "nbconvert_exporter": "python",
   "pygments_lexer": "ipython3",
   "version": "3.10.4"
  }
 },
 "nbformat": 4,
 "nbformat_minor": 5
}

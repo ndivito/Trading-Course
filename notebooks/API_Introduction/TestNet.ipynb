{
 "cells": [
  {
   "cell_type": "code",
   "execution_count": 2,
   "id": "d5fcc7ed-03bb-46ef-8aa2-9b0d05b97e4f",
   "metadata": {
    "tags": []
   },
   "outputs": [],
   "source": [
    "import os\n",
    "import pandas as pd\n",
    "from binance.client import Client\n",
    "from binance import ThreadedWebsocketManager\n",
    "from datetime import datetime, timedelta\n"
   ]
  },
  {
   "cell_type": "code",
   "execution_count": 3,
   "id": "e75c61b8-e687-4c88-b989-28286fe44bd4",
   "metadata": {
    "tags": []
   },
   "outputs": [
    {
     "data": {
      "text/plain": [
       "'3aH1Gh3xf1fsOxDEPpDERmBZ1NXSryFeWx3obCBDD3JveNIvoKHWKRvW3AktNnS2'"
      ]
     },
     "execution_count": 3,
     "metadata": {},
     "output_type": "execute_result"
    }
   ],
   "source": [
    "API_KEY = os.getenv('TEST_KEY')\n",
    "API_SECRET = os.getenv('TEST_SECRET')\n",
    "API_KEY"
   ]
  },
  {
   "cell_type": "code",
   "execution_count": 4,
   "id": "63f4493c-a87e-4856-a827-b6cb518de021",
   "metadata": {},
   "outputs": [],
   "source": [
    "# Ensure that testnet is set to true !\n",
    "client = Client(api_key = API_KEY, api_secret = API_SECRET, tld = \"us\", testnet= True)"
   ]
  },
  {
   "cell_type": "code",
   "execution_count": 5,
   "id": "4188e502-8318-4e27-aaef-26fca8a14009",
   "metadata": {
    "tags": []
   },
   "outputs": [
    {
     "data": {
      "text/plain": [
       "{'makerCommission': 0,\n",
       " 'takerCommission': 0,\n",
       " 'buyerCommission': 0,\n",
       " 'sellerCommission': 0,\n",
       " 'commissionRates': {'maker': '0.00000000',\n",
       "  'taker': '0.00000000',\n",
       "  'buyer': '0.00000000',\n",
       "  'seller': '0.00000000'},\n",
       " 'canTrade': True,\n",
       " 'canWithdraw': False,\n",
       " 'canDeposit': False,\n",
       " 'brokered': False,\n",
       " 'requireSelfTradePrevention': False,\n",
       " 'updateTime': 1672685531162,\n",
       " 'accountType': 'SPOT',\n",
       " 'balances': [{'asset': 'BNB',\n",
       "   'free': '1000.00000000',\n",
       "   'locked': '0.00000000'},\n",
       "  {'asset': 'BTC', 'free': '1.00000000', 'locked': '0.00000000'},\n",
       "  {'asset': 'BUSD', 'free': '10000.00000000', 'locked': '0.00000000'},\n",
       "  {'asset': 'ETH', 'free': '100.00000000', 'locked': '0.00000000'},\n",
       "  {'asset': 'LTC', 'free': '500.00000000', 'locked': '0.00000000'},\n",
       "  {'asset': 'TRX', 'free': '500000.00000000', 'locked': '0.00000000'},\n",
       "  {'asset': 'USDT', 'free': '10000.00000000', 'locked': '0.00000000'},\n",
       "  {'asset': 'XRP', 'free': '50000.00000000', 'locked': '0.00000000'}],\n",
       " 'permissions': ['SPOT']}"
      ]
     },
     "execution_count": 5,
     "metadata": {},
     "output_type": "execute_result"
    }
   ],
   "source": [
    "client.get_account() #Test account details"
   ]
  },
  {
   "cell_type": "code",
   "execution_count": 6,
   "id": "570e7574-97e5-4014-acfd-959c07d52713",
   "metadata": {
    "tags": []
   },
   "outputs": [
    {
     "data": {
      "text/plain": [
       "'SPOT'"
      ]
     },
     "execution_count": 6,
     "metadata": {},
     "output_type": "execute_result"
    }
   ],
   "source": [
    "account = client.get_account()\n",
    "account[\"accountType\"]  #Account Type"
   ]
  },
  {
   "cell_type": "code",
   "execution_count": 7,
   "id": "e4c324ea-581c-41f5-a601-ac604eeadb37",
   "metadata": {},
   "outputs": [],
   "source": [
    "def get_history(symbol, interval, start, end = None):\n",
    "        bars = client.get_historical_klines(symbol = symbol, interval = interval,\n",
    "                                            start_str = start, end_str = end, limit = 1000)  # get the historical Klines with defined intervals \n",
    "        df = pd.DataFrame(bars)\n",
    "        df[\"Date\"] = pd.to_datetime(df.iloc[:,0], unit = \"ms\") #make the first column of unix time into meaningful timestamps\n",
    "        df.columns = [\"Open Time\", \"Open\", \"High\", \"Low\", \"Close\", \"Volume\", \"Close Time\", \"Quote Asset Volume\", \n",
    "                      \"Number of Trades\", \"Taker Buy Base Asset Volume\", \"Taker Buy Quote Asset Volume\", \"Ignore\", \"Date\"]  # rename columns for what we are going to use them\n",
    "        df = df[[\"Date\", \"Open\", \"High\", \"Low\", \"Close\", \"Volume\"]].copy() #take only the columns we care about\n",
    "        df.set_index(\"Date\", inplace = True) # make the date column the index column\n",
    "        for column in df.columns:\n",
    "            df[column] = pd.to_numeric(df[column], errors = \"coerce\")\n",
    "            \n",
    "        return df"
   ]
  },
  {
   "cell_type": "code",
   "execution_count": 8,
   "id": "c2ff28a7-618a-448a-8807-8134aef3c299",
   "metadata": {},
   "outputs": [
    {
     "data": {
      "text/html": [
       "<div>\n",
       "<style scoped>\n",
       "    .dataframe tbody tr th:only-of-type {\n",
       "        vertical-align: middle;\n",
       "    }\n",
       "\n",
       "    .dataframe tbody tr th {\n",
       "        vertical-align: top;\n",
       "    }\n",
       "\n",
       "    .dataframe thead th {\n",
       "        text-align: right;\n",
       "    }\n",
       "</style>\n",
       "<table border=\"1\" class=\"dataframe\">\n",
       "  <thead>\n",
       "    <tr style=\"text-align: right;\">\n",
       "      <th></th>\n",
       "      <th>asset</th>\n",
       "      <th>free</th>\n",
       "      <th>locked</th>\n",
       "    </tr>\n",
       "  </thead>\n",
       "  <tbody>\n",
       "    <tr>\n",
       "      <th>0</th>\n",
       "      <td>BNB</td>\n",
       "      <td>1000.00000000</td>\n",
       "      <td>0.00000000</td>\n",
       "    </tr>\n",
       "    <tr>\n",
       "      <th>1</th>\n",
       "      <td>BTC</td>\n",
       "      <td>1.00000000</td>\n",
       "      <td>0.00000000</td>\n",
       "    </tr>\n",
       "    <tr>\n",
       "      <th>2</th>\n",
       "      <td>BUSD</td>\n",
       "      <td>10000.00000000</td>\n",
       "      <td>0.00000000</td>\n",
       "    </tr>\n",
       "    <tr>\n",
       "      <th>3</th>\n",
       "      <td>ETH</td>\n",
       "      <td>100.00000000</td>\n",
       "      <td>0.00000000</td>\n",
       "    </tr>\n",
       "    <tr>\n",
       "      <th>4</th>\n",
       "      <td>LTC</td>\n",
       "      <td>500.00000000</td>\n",
       "      <td>0.00000000</td>\n",
       "    </tr>\n",
       "    <tr>\n",
       "      <th>5</th>\n",
       "      <td>TRX</td>\n",
       "      <td>500000.00000000</td>\n",
       "      <td>0.00000000</td>\n",
       "    </tr>\n",
       "    <tr>\n",
       "      <th>6</th>\n",
       "      <td>USDT</td>\n",
       "      <td>10000.00000000</td>\n",
       "      <td>0.00000000</td>\n",
       "    </tr>\n",
       "    <tr>\n",
       "      <th>7</th>\n",
       "      <td>XRP</td>\n",
       "      <td>50000.00000000</td>\n",
       "      <td>0.00000000</td>\n",
       "    </tr>\n",
       "  </tbody>\n",
       "</table>\n",
       "</div>"
      ],
      "text/plain": [
       "  asset             free      locked\n",
       "0   BNB    1000.00000000  0.00000000\n",
       "1   BTC       1.00000000  0.00000000\n",
       "2  BUSD   10000.00000000  0.00000000\n",
       "3   ETH     100.00000000  0.00000000\n",
       "4   LTC     500.00000000  0.00000000\n",
       "5   TRX  500000.00000000  0.00000000\n",
       "6  USDT   10000.00000000  0.00000000\n",
       "7   XRP   50000.00000000  0.00000000"
      ]
     },
     "execution_count": 8,
     "metadata": {},
     "output_type": "execute_result"
    }
   ],
   "source": [
    "df = pd.DataFrame(account[\"balances\"]) # extract balances from account\n",
    "df"
   ]
  },
  {
   "cell_type": "code",
   "execution_count": 9,
   "id": "52a5dc2e-d388-4454-9b02-2c07e4d70e8b",
   "metadata": {},
   "outputs": [
    {
     "name": "stdout",
     "output_type": "stream",
     "text": [
      "<class 'pandas.core.frame.DataFrame'>\n",
      "RangeIndex: 8 entries, 0 to 7\n",
      "Data columns (total 3 columns):\n",
      " #   Column  Non-Null Count  Dtype  \n",
      "---  ------  --------------  -----  \n",
      " 0   asset   8 non-null      object \n",
      " 1   free    8 non-null      float64\n",
      " 2   locked  8 non-null      float64\n",
      "dtypes: float64(2), object(1)\n",
      "memory usage: 320.0+ bytes\n"
     ]
    }
   ],
   "source": [
    "# Convert numbers to floats\n",
    "df[\"free\"] = pd.to_numeric(df[\"free\"], errors = \"coerce\")\n",
    "df[\"locked\"] = pd.to_numeric(df[\"locked\"], errors = \"coerce\")\n",
    "df.info()"
   ]
  },
  {
   "cell_type": "code",
   "execution_count": 10,
   "id": "afa259bc-dc9b-462a-8845-69896977c850",
   "metadata": {},
   "outputs": [
    {
     "data": {
      "text/plain": [
       "[{'symbol': 'BNBBUSD', 'price': '245.70000000'},\n",
       " {'symbol': 'BTCBUSD', 'price': '16653.49000000'},\n",
       " {'symbol': 'ETHBUSD', 'price': '1212.67000000'},\n",
       " {'symbol': 'LTCBUSD', 'price': '75.49000000'},\n",
       " {'symbol': 'TRXBUSD', 'price': '0.05480000'},\n",
       " {'symbol': 'XRPBUSD', 'price': '0.34320000'},\n",
       " {'symbol': 'BNBUSDT', 'price': '245.70000000'},\n",
       " {'symbol': 'BTCUSDT', 'price': '16659.45000000'},\n",
       " {'symbol': 'ETHUSDT', 'price': '1213.09000000'},\n",
       " {'symbol': 'LTCUSDT', 'price': '75.51000000'},\n",
       " {'symbol': 'TRXUSDT', 'price': '0.05482000'},\n",
       " {'symbol': 'XRPUSDT', 'price': '0.34350000'},\n",
       " {'symbol': 'BNBBTC', 'price': '0.01475200'},\n",
       " {'symbol': 'ETHBTC', 'price': '0.07282000'},\n",
       " {'symbol': 'LTCBTC', 'price': '0.00453300'},\n",
       " {'symbol': 'TRXBTC', 'price': '0.00000329'},\n",
       " {'symbol': 'XRPBTC', 'price': '0.00002060'},\n",
       " {'symbol': 'LTCBNB', 'price': '0.30760000'},\n",
       " {'symbol': 'TRXBNB', 'price': '0.00022280'},\n",
       " {'symbol': 'XRPBNB', 'price': '0.00139300'}]"
      ]
     },
     "execution_count": 10,
     "metadata": {},
     "output_type": "execute_result"
    }
   ],
   "source": [
    "#Get prices for all testnet pairs\n",
    "client.get_all_tickers()"
   ]
  },
  {
   "cell_type": "code",
   "execution_count": 11,
   "id": "27e7d43c-d1d4-4e0f-bbc9-489055c9f90c",
   "metadata": {},
   "outputs": [
    {
     "data": {
      "text/plain": [
       "{'symbol': 'BTCUSDT',\n",
       " 'priceChange': '-43.00000000',\n",
       " 'priceChangePercent': '-0.257',\n",
       " 'weightedAvgPrice': '16692.01695955',\n",
       " 'prevClosePrice': '16702.28000000',\n",
       " 'lastPrice': '16659.45000000',\n",
       " 'lastQty': '0.17167500',\n",
       " 'bidPrice': '16659.17000000',\n",
       " 'bidQty': '0.14166400',\n",
       " 'askPrice': '16659.40000000',\n",
       " 'askQty': '0.15426800',\n",
       " 'openPrice': '16702.45000000',\n",
       " 'highPrice': '60000.00000000',\n",
       " 'lowPrice': '4986.46000000',\n",
       " 'volume': '7293.39896900',\n",
       " 'quoteVolume': '121741539.28330063',\n",
       " 'openTime': 1672706839255,\n",
       " 'closeTime': 1672793239255,\n",
       " 'firstId': 2255303,\n",
       " 'lastId': 2364208,\n",
       " 'count': 108906}"
      ]
     },
     "execution_count": 11,
     "metadata": {},
     "output_type": "execute_result"
    }
   ],
   "source": [
    "last24 = client.get_ticker(symbol = \"BTCUSDT\") #24 Price change statistic\n",
    "last24"
   ]
  },
  {
   "cell_type": "code",
   "execution_count": 12,
   "id": "29ec9cd6-8946-4330-adff-e24fb1f33864",
   "metadata": {},
   "outputs": [
    {
     "data": {
      "text/plain": [
       "Timestamp('2023-01-03 00:47:19.255000')"
      ]
     },
     "execution_count": 12,
     "metadata": {},
     "output_type": "execute_result"
    }
   ],
   "source": [
    "pd.to_datetime(last24[\"openTime\"], unit = \"ms\") # Show datetime in a readable format"
   ]
  },
  {
   "cell_type": "code",
   "execution_count": 13,
   "id": "4047fc01-ec96-455e-ad12-8400ce55126f",
   "metadata": {},
   "outputs": [
    {
     "data": {
      "text/plain": [
       "Timestamp('2022-12-14 00:00:00')"
      ]
     },
     "execution_count": 13,
     "metadata": {},
     "output_type": "execute_result"
    }
   ],
   "source": [
    "timestamp = client._get_earliest_valid_timestamp(symbol = \"BTCUSDT\", interval = \"1d\") #earliest available data will reset every month\n",
    "pd.to_datetime(timestamp, unit = \"ms\") # Show datetime in a readable format"
   ]
  },
  {
   "cell_type": "code",
   "execution_count": 14,
   "id": "7d3c0eba-b893-40bf-962d-5e38ffc5b7ff",
   "metadata": {},
   "outputs": [
    {
     "data": {
      "text/html": [
       "<div>\n",
       "<style scoped>\n",
       "    .dataframe tbody tr th:only-of-type {\n",
       "        vertical-align: middle;\n",
       "    }\n",
       "\n",
       "    .dataframe tbody tr th {\n",
       "        vertical-align: top;\n",
       "    }\n",
       "\n",
       "    .dataframe thead th {\n",
       "        text-align: right;\n",
       "    }\n",
       "</style>\n",
       "<table border=\"1\" class=\"dataframe\">\n",
       "  <thead>\n",
       "    <tr style=\"text-align: right;\">\n",
       "      <th></th>\n",
       "      <th>Open</th>\n",
       "      <th>High</th>\n",
       "      <th>Low</th>\n",
       "      <th>Close</th>\n",
       "      <th>Volume</th>\n",
       "    </tr>\n",
       "    <tr>\n",
       "      <th>Date</th>\n",
       "      <th></th>\n",
       "      <th></th>\n",
       "      <th></th>\n",
       "      <th></th>\n",
       "      <th></th>\n",
       "    </tr>\n",
       "  </thead>\n",
       "  <tbody>\n",
       "    <tr>\n",
       "      <th>2022-12-14</th>\n",
       "      <td>17837.75</td>\n",
       "      <td>50000.00</td>\n",
       "      <td>11960.00</td>\n",
       "      <td>17795.18</td>\n",
       "      <td>4428.098892</td>\n",
       "    </tr>\n",
       "    <tr>\n",
       "      <th>2022-12-15</th>\n",
       "      <td>17795.18</td>\n",
       "      <td>18952.74</td>\n",
       "      <td>16831.78</td>\n",
       "      <td>17357.11</td>\n",
       "      <td>7740.685182</td>\n",
       "    </tr>\n",
       "    <tr>\n",
       "      <th>2022-12-16</th>\n",
       "      <td>17357.49</td>\n",
       "      <td>17525.00</td>\n",
       "      <td>16342.69</td>\n",
       "      <td>16630.42</td>\n",
       "      <td>8635.080110</td>\n",
       "    </tr>\n",
       "    <tr>\n",
       "      <th>2022-12-17</th>\n",
       "      <td>16630.72</td>\n",
       "      <td>17376.90</td>\n",
       "      <td>5312.94</td>\n",
       "      <td>16776.19</td>\n",
       "      <td>7435.010972</td>\n",
       "    </tr>\n",
       "    <tr>\n",
       "      <th>2022-12-18</th>\n",
       "      <td>16776.61</td>\n",
       "      <td>17134.31</td>\n",
       "      <td>5000.00</td>\n",
       "      <td>16738.62</td>\n",
       "      <td>6363.810820</td>\n",
       "    </tr>\n",
       "    <tr>\n",
       "      <th>2022-12-19</th>\n",
       "      <td>16738.61</td>\n",
       "      <td>16907.00</td>\n",
       "      <td>10000.00</td>\n",
       "      <td>16439.51</td>\n",
       "      <td>7505.842789</td>\n",
       "    </tr>\n",
       "    <tr>\n",
       "      <th>2022-12-20</th>\n",
       "      <td>16439.51</td>\n",
       "      <td>17055.56</td>\n",
       "      <td>6000.00</td>\n",
       "      <td>16896.24</td>\n",
       "      <td>8441.694337</td>\n",
       "    </tr>\n",
       "    <tr>\n",
       "      <th>2022-12-21</th>\n",
       "      <td>16896.19</td>\n",
       "      <td>17095.64</td>\n",
       "      <td>5000.00</td>\n",
       "      <td>16826.39</td>\n",
       "      <td>6965.755353</td>\n",
       "    </tr>\n",
       "    <tr>\n",
       "      <th>2022-12-22</th>\n",
       "      <td>16825.18</td>\n",
       "      <td>16867.03</td>\n",
       "      <td>4001.00</td>\n",
       "      <td>16821.02</td>\n",
       "      <td>7266.582324</td>\n",
       "    </tr>\n",
       "    <tr>\n",
       "      <th>2022-12-23</th>\n",
       "      <td>16821.12</td>\n",
       "      <td>16916.28</td>\n",
       "      <td>9097.74</td>\n",
       "      <td>16778.53</td>\n",
       "      <td>7175.373021</td>\n",
       "    </tr>\n",
       "    <tr>\n",
       "      <th>2022-12-24</th>\n",
       "      <td>16778.51</td>\n",
       "      <td>16927.34</td>\n",
       "      <td>9097.74</td>\n",
       "      <td>16835.49</td>\n",
       "      <td>6218.964464</td>\n",
       "    </tr>\n",
       "    <tr>\n",
       "      <th>2022-12-25</th>\n",
       "      <td>16836.12</td>\n",
       "      <td>17150.18</td>\n",
       "      <td>6200.00</td>\n",
       "      <td>16831.40</td>\n",
       "      <td>6233.397178</td>\n",
       "    </tr>\n",
       "    <tr>\n",
       "      <th>2022-12-26</th>\n",
       "      <td>16831.73</td>\n",
       "      <td>16936.90</td>\n",
       "      <td>16332.55</td>\n",
       "      <td>16918.10</td>\n",
       "      <td>7445.772967</td>\n",
       "    </tr>\n",
       "    <tr>\n",
       "      <th>2022-12-27</th>\n",
       "      <td>16918.25</td>\n",
       "      <td>20000.00</td>\n",
       "      <td>16593.58</td>\n",
       "      <td>16705.85</td>\n",
       "      <td>8743.390816</td>\n",
       "    </tr>\n",
       "    <tr>\n",
       "      <th>2022-12-28</th>\n",
       "      <td>16705.96</td>\n",
       "      <td>16961.35</td>\n",
       "      <td>16469.29</td>\n",
       "      <td>16547.00</td>\n",
       "      <td>9024.041761</td>\n",
       "    </tr>\n",
       "    <tr>\n",
       "      <th>2022-12-29</th>\n",
       "      <td>16547.46</td>\n",
       "      <td>17013.40</td>\n",
       "      <td>16000.00</td>\n",
       "      <td>16634.57</td>\n",
       "      <td>7867.440803</td>\n",
       "    </tr>\n",
       "    <tr>\n",
       "      <th>2022-12-30</th>\n",
       "      <td>16634.22</td>\n",
       "      <td>17631.58</td>\n",
       "      <td>3363.60</td>\n",
       "      <td>16607.62</td>\n",
       "      <td>8423.800987</td>\n",
       "    </tr>\n",
       "    <tr>\n",
       "      <th>2022-12-31</th>\n",
       "      <td>16607.96</td>\n",
       "      <td>17814.89</td>\n",
       "      <td>15578.49</td>\n",
       "      <td>16539.85</td>\n",
       "      <td>6310.444008</td>\n",
       "    </tr>\n",
       "    <tr>\n",
       "      <th>2023-01-01</th>\n",
       "      <td>16539.85</td>\n",
       "      <td>17861.06</td>\n",
       "      <td>15276.19</td>\n",
       "      <td>16617.05</td>\n",
       "      <td>6080.355282</td>\n",
       "    </tr>\n",
       "    <tr>\n",
       "      <th>2023-01-02</th>\n",
       "      <td>16617.18</td>\n",
       "      <td>17320.00</td>\n",
       "      <td>8290.64</td>\n",
       "      <td>16672.96</td>\n",
       "      <td>7238.953840</td>\n",
       "    </tr>\n",
       "    <tr>\n",
       "      <th>2023-01-03</th>\n",
       "      <td>16672.82</td>\n",
       "      <td>60000.00</td>\n",
       "      <td>16000.00</td>\n",
       "      <td>16674.60</td>\n",
       "      <td>7332.715453</td>\n",
       "    </tr>\n",
       "    <tr>\n",
       "      <th>2023-01-04</th>\n",
       "      <td>16674.89</td>\n",
       "      <td>16696.50</td>\n",
       "      <td>4986.46</td>\n",
       "      <td>16659.10</td>\n",
       "      <td>225.877589</td>\n",
       "    </tr>\n",
       "  </tbody>\n",
       "</table>\n",
       "</div>"
      ],
      "text/plain": [
       "                Open      High       Low     Close       Volume\n",
       "Date                                                           \n",
       "2022-12-14  17837.75  50000.00  11960.00  17795.18  4428.098892\n",
       "2022-12-15  17795.18  18952.74  16831.78  17357.11  7740.685182\n",
       "2022-12-16  17357.49  17525.00  16342.69  16630.42  8635.080110\n",
       "2022-12-17  16630.72  17376.90   5312.94  16776.19  7435.010972\n",
       "2022-12-18  16776.61  17134.31   5000.00  16738.62  6363.810820\n",
       "2022-12-19  16738.61  16907.00  10000.00  16439.51  7505.842789\n",
       "2022-12-20  16439.51  17055.56   6000.00  16896.24  8441.694337\n",
       "2022-12-21  16896.19  17095.64   5000.00  16826.39  6965.755353\n",
       "2022-12-22  16825.18  16867.03   4001.00  16821.02  7266.582324\n",
       "2022-12-23  16821.12  16916.28   9097.74  16778.53  7175.373021\n",
       "2022-12-24  16778.51  16927.34   9097.74  16835.49  6218.964464\n",
       "2022-12-25  16836.12  17150.18   6200.00  16831.40  6233.397178\n",
       "2022-12-26  16831.73  16936.90  16332.55  16918.10  7445.772967\n",
       "2022-12-27  16918.25  20000.00  16593.58  16705.85  8743.390816\n",
       "2022-12-28  16705.96  16961.35  16469.29  16547.00  9024.041761\n",
       "2022-12-29  16547.46  17013.40  16000.00  16634.57  7867.440803\n",
       "2022-12-30  16634.22  17631.58   3363.60  16607.62  8423.800987\n",
       "2022-12-31  16607.96  17814.89  15578.49  16539.85  6310.444008\n",
       "2023-01-01  16539.85  17861.06  15276.19  16617.05  6080.355282\n",
       "2023-01-02  16617.18  17320.00   8290.64  16672.96  7238.953840\n",
       "2023-01-03  16672.82  60000.00  16000.00  16674.60  7332.715453\n",
       "2023-01-04  16674.89  16696.50   4986.46  16659.10   225.877589"
      ]
     },
     "execution_count": 14,
     "metadata": {},
     "output_type": "execute_result"
    }
   ],
   "source": [
    "df = get_history(symbol = \"BTCUSDT\", interval = \"1d\", start = timestamp)\n",
    "df"
   ]
  },
  {
   "cell_type": "code",
   "execution_count": 15,
   "id": "4ba72a47-8dea-496e-9783-9d3b52098b71",
   "metadata": {},
   "outputs": [],
   "source": [
    "def stream_data(msg):\n",
    "    '''define how to process incoming websocket messages'''\n",
    "    time = pd.to_datetime(msg[\"E\"], unit=\"ms\")\n",
    "    price = msg[\"c\"]\n",
    "    \n",
    "    print(\"Time: {} | Price: {}\".format(time, price))"
   ]
  },
  {
   "cell_type": "code",
   "execution_count": 16,
   "id": "5aa85f9a-42fe-4182-a00b-e2e9cd598177",
   "metadata": {},
   "outputs": [],
   "source": [
    "#initialize and start the websocket\n",
    "twm = ThreadedWebsocketManager(tld = \"us\")\n",
    "twm.start()"
   ]
  },
  {
   "cell_type": "code",
   "execution_count": 19,
   "id": "7aeef7c8-69cb-4864-841e-e19433e1e8aa",
   "metadata": {},
   "outputs": [
    {
     "data": {
      "text/plain": [
       "'btcusdt@miniTicker'"
      ]
     },
     "execution_count": 19,
     "metadata": {},
     "output_type": "execute_result"
    }
   ],
   "source": [
    "twm.start_symbol_miniticker_socket(callback = stream_data, symbol = \"BTCUSDT\")"
   ]
  },
  {
   "cell_type": "code",
   "execution_count": 20,
   "id": "86aa9786-923c-4968-9b70-e2caba9ed5b4",
   "metadata": {},
   "outputs": [],
   "source": [
    "twm.stop() #stop the websocket/stream"
   ]
  },
  {
   "cell_type": "markdown",
   "id": "bc235b22-0b8d-4dce-b638-b51e07625585",
   "metadata": {},
   "source": [
    "# Place a market Buy Order"
   ]
  },
  {
   "cell_type": "code",
   "execution_count": 21,
   "id": "83d591bf-a502-4d5e-b7ad-da76c346ec89",
   "metadata": {},
   "outputs": [],
   "source": [
    "#Buy 0.1 Bitcoin with USDT\n",
    "order = client.create_order(symbol = \"BTCUSDT\", side = \"BUY\", type = \"MARKET\", quantity = 0.1)"
   ]
  },
  {
   "cell_type": "code",
   "execution_count": 22,
   "id": "dbc602d6-69d1-4066-b7d6-43d85324d55a",
   "metadata": {},
   "outputs": [
    {
     "data": {
      "text/plain": [
       "{'symbol': 'BTCUSDT',\n",
       " 'orderId': 12196506,\n",
       " 'orderListId': -1,\n",
       " 'clientOrderId': 'PjFwpJhJD0TLDPvUjYTXrl',\n",
       " 'transactTime': 1672793284414,\n",
       " 'price': '0.00000000',\n",
       " 'origQty': '0.10000000',\n",
       " 'executedQty': '0.10000000',\n",
       " 'cummulativeQuoteQty': '1665.93800000',\n",
       " 'status': 'FILLED',\n",
       " 'timeInForce': 'GTC',\n",
       " 'type': 'MARKET',\n",
       " 'side': 'BUY',\n",
       " 'workingTime': 1672793284414,\n",
       " 'fills': [{'price': '16659.38000000',\n",
       "   'qty': '0.10000000',\n",
       "   'commission': '0.00000000',\n",
       "   'commissionAsset': 'BTC',\n",
       "   'tradeId': 2364247}],\n",
       " 'selfTradePreventionMode': 'NONE'}"
      ]
     },
     "execution_count": 22,
     "metadata": {},
     "output_type": "execute_result"
    }
   ],
   "source": [
    "order"
   ]
  },
  {
   "cell_type": "code",
   "execution_count": 23,
   "id": "63d74f97-b86b-4f42-8b83-2328e4e928a4",
   "metadata": {},
   "outputs": [
    {
     "data": {
      "text/html": [
       "<div>\n",
       "<style scoped>\n",
       "    .dataframe tbody tr th:only-of-type {\n",
       "        vertical-align: middle;\n",
       "    }\n",
       "\n",
       "    .dataframe tbody tr th {\n",
       "        vertical-align: top;\n",
       "    }\n",
       "\n",
       "    .dataframe thead th {\n",
       "        text-align: right;\n",
       "    }\n",
       "</style>\n",
       "<table border=\"1\" class=\"dataframe\">\n",
       "  <thead>\n",
       "    <tr style=\"text-align: right;\">\n",
       "      <th></th>\n",
       "      <th>price</th>\n",
       "      <th>qty</th>\n",
       "      <th>commission</th>\n",
       "      <th>commissionAsset</th>\n",
       "      <th>tradeId</th>\n",
       "    </tr>\n",
       "  </thead>\n",
       "  <tbody>\n",
       "    <tr>\n",
       "      <th>0</th>\n",
       "      <td>16659.38000000</td>\n",
       "      <td>0.10000000</td>\n",
       "      <td>0.00000000</td>\n",
       "      <td>BTC</td>\n",
       "      <td>2364247</td>\n",
       "    </tr>\n",
       "  </tbody>\n",
       "</table>\n",
       "</div>"
      ],
      "text/plain": [
       "            price         qty  commission commissionAsset  tradeId\n",
       "0  16659.38000000  0.10000000  0.00000000             BTC  2364247"
      ]
     },
     "execution_count": 23,
     "metadata": {},
     "output_type": "execute_result"
    }
   ],
   "source": [
    "df = pd.DataFrame(order[\"fills\"])\n",
    "df"
   ]
  },
  {
   "cell_type": "code",
   "execution_count": 24,
   "id": "a813e178-50ba-4e03-9d76-17a543a3a176",
   "metadata": {},
   "outputs": [],
   "source": [
    "num_columns = [\"price\",\"qty\",\"commission\"]"
   ]
  },
  {
   "cell_type": "code",
   "execution_count": 28,
   "id": "ac066e3d-9b10-4215-a3d8-6057689527be",
   "metadata": {},
   "outputs": [],
   "source": [
    "for column in num_columns:\n",
    "    df[column] = pd.to_numeric(df[column], errors = \"coerce\")"
   ]
  },
  {
   "cell_type": "code",
   "execution_count": 29,
   "id": "228ba4f6-3040-4cf2-8083-1d9575f176e3",
   "metadata": {},
   "outputs": [
    {
     "name": "stdout",
     "output_type": "stream",
     "text": [
      "<class 'pandas.core.frame.DataFrame'>\n",
      "Index: 4 entries, 0 to commission\n",
      "Data columns (total 5 columns):\n",
      " #   Column           Non-Null Count  Dtype  \n",
      "---  ------           --------------  -----  \n",
      " 0   price            1 non-null      float64\n",
      " 1   qty              1 non-null      float64\n",
      " 2   commission       1 non-null      float64\n",
      " 3   commissionAsset  1 non-null      object \n",
      " 4   tradeId          1 non-null      float64\n",
      "dtypes: float64(4), object(1)\n",
      "memory usage: 192.0+ bytes\n"
     ]
    }
   ],
   "source": [
    "df.info()"
   ]
  },
  {
   "cell_type": "code",
   "execution_count": 31,
   "id": "51c32bb8-c6c8-4059-b5fc-29cf578dbb3c",
   "metadata": {},
   "outputs": [
    {
     "data": {
      "text/plain": [
       "{'makerCommission': 0,\n",
       " 'takerCommission': 0,\n",
       " 'buyerCommission': 0,\n",
       " 'sellerCommission': 0,\n",
       " 'commissionRates': {'maker': '0.00000000',\n",
       "  'taker': '0.00000000',\n",
       "  'buyer': '0.00000000',\n",
       "  'seller': '0.00000000'},\n",
       " 'canTrade': True,\n",
       " 'canWithdraw': False,\n",
       " 'canDeposit': False,\n",
       " 'brokered': False,\n",
       " 'requireSelfTradePrevention': False,\n",
       " 'updateTime': 1672793284414,\n",
       " 'accountType': 'SPOT',\n",
       " 'balances': [{'asset': 'BNB',\n",
       "   'free': '1000.00000000',\n",
       "   'locked': '0.00000000'},\n",
       "  {'asset': 'BTC', 'free': '1.10000000', 'locked': '0.00000000'},\n",
       "  {'asset': 'BUSD', 'free': '10000.00000000', 'locked': '0.00000000'},\n",
       "  {'asset': 'ETH', 'free': '100.00000000', 'locked': '0.00000000'},\n",
       "  {'asset': 'LTC', 'free': '500.00000000', 'locked': '0.00000000'},\n",
       "  {'asset': 'TRX', 'free': '500000.00000000', 'locked': '0.00000000'},\n",
       "  {'asset': 'USDT', 'free': '8334.06200000', 'locked': '0.00000000'},\n",
       "  {'asset': 'XRP', 'free': '50000.00000000', 'locked': '0.00000000'}],\n",
       " 'permissions': ['SPOT']}"
      ]
     },
     "execution_count": 31,
     "metadata": {},
     "output_type": "execute_result"
    }
   ],
   "source": [
    "client.get_account()"
   ]
  },
  {
   "cell_type": "code",
   "execution_count": 33,
   "id": "bd8862eb-1641-420b-b22d-69cb2f82b81f",
   "metadata": {},
   "outputs": [],
   "source": [
    "#Buy Bitcoin with 1000 USDT\n",
    "order = client.create_order(symbol = \"BTCUSDT\", side = \"BUY\", type = \"MARKET\", quoteOrderQty = 1000)"
   ]
  },
  {
   "cell_type": "code",
   "execution_count": 34,
   "id": "43450950-a132-475c-aba6-005bcd860787",
   "metadata": {},
   "outputs": [
    {
     "data": {
      "text/plain": [
       "{'symbol': 'BTCUSDT',\n",
       " 'orderId': 12200478,\n",
       " 'orderListId': -1,\n",
       " 'clientOrderId': 'tSA6joXkNqHjbOGHjXf8mn',\n",
       " 'transactTime': 1672793894642,\n",
       " 'price': '0.00000000',\n",
       " 'origQty': '0.06002100',\n",
       " 'executedQty': '0.06002100',\n",
       " 'cummulativeQuoteQty': '999.99307512',\n",
       " 'status': 'FILLED',\n",
       " 'timeInForce': 'GTC',\n",
       " 'type': 'MARKET',\n",
       " 'side': 'BUY',\n",
       " 'workingTime': 1672793894642,\n",
       " 'fills': [{'price': '16660.72000000',\n",
       "   'qty': '0.06002100',\n",
       "   'commission': '0.00000000',\n",
       "   'commissionAsset': 'BTC',\n",
       "   'tradeId': 2364951}],\n",
       " 'selfTradePreventionMode': 'NONE'}"
      ]
     },
     "execution_count": 34,
     "metadata": {},
     "output_type": "execute_result"
    }
   ],
   "source": [
    "order"
   ]
  },
  {
   "cell_type": "code",
   "execution_count": 37,
   "id": "790607c5-606a-4606-bdad-12710379d0e2",
   "metadata": {},
   "outputs": [
    {
     "data": {
      "text/plain": [
       "16660.72"
      ]
     },
     "execution_count": 37,
     "metadata": {},
     "output_type": "execute_result"
    }
   ],
   "source": [
    "# Check the average price we paid per bitcoin in this transaction by checking how mych we paid vs how much we got\n",
    "avr_price = float(order[\"cummulativeQuoteQty\"]) / float(order[\"origQty\"])\n",
    "avr_price"
   ]
  },
  {
   "cell_type": "markdown",
   "id": "2c8ac919-c341-4d8c-bd31-6c6a335b7da7",
   "metadata": {},
   "source": [
    "# Place a Market Sell Order"
   ]
  },
  {
   "cell_type": "code",
   "execution_count": 39,
   "id": "6ae8f536-0c58-4b6b-9760-ffd0dad7b1c4",
   "metadata": {},
   "outputs": [
    {
     "data": {
      "text/plain": [
       "{'makerCommission': 0,\n",
       " 'takerCommission': 0,\n",
       " 'buyerCommission': 0,\n",
       " 'sellerCommission': 0,\n",
       " 'commissionRates': {'maker': '0.00000000',\n",
       "  'taker': '0.00000000',\n",
       "  'buyer': '0.00000000',\n",
       "  'seller': '0.00000000'},\n",
       " 'canTrade': True,\n",
       " 'canWithdraw': False,\n",
       " 'canDeposit': False,\n",
       " 'brokered': False,\n",
       " 'requireSelfTradePrevention': False,\n",
       " 'updateTime': 1672793894642,\n",
       " 'accountType': 'SPOT',\n",
       " 'balances': [{'asset': 'BNB',\n",
       "   'free': '1000.00000000',\n",
       "   'locked': '0.00000000'},\n",
       "  {'asset': 'BTC', 'free': '1.16002100', 'locked': '0.00000000'},\n",
       "  {'asset': 'BUSD', 'free': '10000.00000000', 'locked': '0.00000000'},\n",
       "  {'asset': 'ETH', 'free': '100.00000000', 'locked': '0.00000000'},\n",
       "  {'asset': 'LTC', 'free': '500.00000000', 'locked': '0.00000000'},\n",
       "  {'asset': 'TRX', 'free': '500000.00000000', 'locked': '0.00000000'},\n",
       "  {'asset': 'USDT', 'free': '7334.06892488', 'locked': '0.00000000'},\n",
       "  {'asset': 'XRP', 'free': '50000.00000000', 'locked': '0.00000000'}],\n",
       " 'permissions': ['SPOT']}"
      ]
     },
     "execution_count": 39,
     "metadata": {},
     "output_type": "execute_result"
    }
   ],
   "source": [
    "client.get_account()"
   ]
  },
  {
   "cell_type": "code",
   "execution_count": 40,
   "id": "6e99e69b-bbca-4565-842f-5a6a81c80e00",
   "metadata": {
    "collapsed": true,
    "jupyter": {
     "outputs_hidden": true
    },
    "tags": []
   },
   "outputs": [
    {
     "data": {
      "text/plain": [
       "{'makerCommission': 0,\n",
       " 'takerCommission': 0,\n",
       " 'buyerCommission': 0,\n",
       " 'sellerCommission': 0,\n",
       " 'commissionRates': {'maker': '0.00000000',\n",
       "  'taker': '0.00000000',\n",
       "  'buyer': '0.00000000',\n",
       "  'seller': '0.00000000'},\n",
       " 'canTrade': True,\n",
       " 'canWithdraw': False,\n",
       " 'canDeposit': False,\n",
       " 'brokered': False,\n",
       " 'requireSelfTradePrevention': False,\n",
       " 'updateTime': 1672794241876,\n",
       " 'accountType': 'SPOT',\n",
       " 'balances': [{'asset': 'BNB',\n",
       "   'free': '1000.00000000',\n",
       "   'locked': '0.00000000'},\n",
       "  {'asset': 'BTC', 'free': '1.00000000', 'locked': '0.00000000'},\n",
       "  {'asset': 'BUSD', 'free': '10000.00000000', 'locked': '0.00000000'},\n",
       "  {'asset': 'ETH', 'free': '100.00000000', 'locked': '0.00000000'},\n",
       "  {'asset': 'LTC', 'free': '500.00000000', 'locked': '0.00000000'},\n",
       "  {'asset': 'TRX', 'free': '500000.00000000', 'locked': '0.00000000'},\n",
       "  {'asset': 'USDT', 'free': '10000.71007560', 'locked': '0.00000000'},\n",
       "  {'asset': 'XRP', 'free': '50000.00000000', 'locked': '0.00000000'}],\n",
       " 'permissions': ['SPOT']}"
      ]
     },
     "execution_count": 40,
     "metadata": {},
     "output_type": "execute_result"
    }
   ],
   "source": [
    "order = client.create_order(symbol = \"BTCUSDT\", side = \"SELL\", type = \"MARKET\", quantity = 0.16002100)"
   ]
  },
  {
   "cell_type": "code",
   "execution_count": 41,
   "id": "4917be17-f5b0-4b5a-9abe-22eaf2c37e36",
   "metadata": {
    "collapsed": true,
    "jupyter": {
     "outputs_hidden": true
    },
    "tags": []
   },
   "outputs": [
    {
     "data": {
      "text/plain": [
       "{'symbol': 'BTCUSDT',\n",
       " 'orderId': 12202491,\n",
       " 'orderListId': -1,\n",
       " 'clientOrderId': 'fQHFFgAG5uQpQmoArF3z1R',\n",
       " 'transactTime': 1672794241876,\n",
       " 'price': '0.00000000',\n",
       " 'origQty': '0.16002100',\n",
       " 'executedQty': '0.16002100',\n",
       " 'cummulativeQuoteQty': '2666.64115072',\n",
       " 'status': 'FILLED',\n",
       " 'timeInForce': 'GTC',\n",
       " 'type': 'MARKET',\n",
       " 'side': 'SELL',\n",
       " 'workingTime': 1672794241876,\n",
       " 'fills': [{'price': '16664.32000000',\n",
       "   'qty': '0.16002100',\n",
       "   'commission': '0.00000000',\n",
       "   'commissionAsset': 'USDT',\n",
       "   'tradeId': 2365338}],\n",
       " 'selfTradePreventionMode': 'NONE'}"
      ]
     },
     "execution_count": 41,
     "metadata": {},
     "output_type": "execute_result"
    }
   ],
   "source": [
    "order"
   ]
  },
  {
   "cell_type": "code",
   "execution_count": 42,
   "id": "0fc758c7-c78b-4518-9523-f19f89b9ea82",
   "metadata": {
    "collapsed": true,
    "jupyter": {
     "outputs_hidden": true
    },
    "tags": []
   },
   "outputs": [
    {
     "data": {
      "text/plain": [
       "{'makerCommission': 0,\n",
       " 'takerCommission': 0,\n",
       " 'buyerCommission': 0,\n",
       " 'sellerCommission': 0,\n",
       " 'commissionRates': {'maker': '0.00000000',\n",
       "  'taker': '0.00000000',\n",
       "  'buyer': '0.00000000',\n",
       "  'seller': '0.00000000'},\n",
       " 'canTrade': True,\n",
       " 'canWithdraw': False,\n",
       " 'canDeposit': False,\n",
       " 'brokered': False,\n",
       " 'requireSelfTradePrevention': False,\n",
       " 'updateTime': 1672794241876,\n",
       " 'accountType': 'SPOT',\n",
       " 'balances': [{'asset': 'BNB',\n",
       "   'free': '1000.00000000',\n",
       "   'locked': '0.00000000'},\n",
       "  {'asset': 'BTC', 'free': '1.00000000', 'locked': '0.00000000'},\n",
       "  {'asset': 'BUSD', 'free': '10000.00000000', 'locked': '0.00000000'},\n",
       "  {'asset': 'ETH', 'free': '100.00000000', 'locked': '0.00000000'},\n",
       "  {'asset': 'LTC', 'free': '500.00000000', 'locked': '0.00000000'},\n",
       "  {'asset': 'TRX', 'free': '500000.00000000', 'locked': '0.00000000'},\n",
       "  {'asset': 'USDT', 'free': '10000.71007560', 'locked': '0.00000000'},\n",
       "  {'asset': 'XRP', 'free': '50000.00000000', 'locked': '0.00000000'}],\n",
       " 'permissions': ['SPOT']}"
      ]
     },
     "execution_count": 42,
     "metadata": {},
     "output_type": "execute_result"
    }
   ],
   "source": [
    "client.get_account()"
   ]
  },
  {
   "cell_type": "markdown",
   "id": "6df89991-16f2-44e8-b194-beb23b60c222",
   "metadata": {},
   "source": [
    "# Limit Orders"
   ]
  },
  {
   "cell_type": "code",
   "execution_count": 55,
   "id": "a2700ffd-5813-4bc3-9a11-73c021354f11",
   "metadata": {},
   "outputs": [
    {
     "data": {
      "text/plain": [
       "{'symbol': 'BTCUSDT', 'price': '16701.80000000'}"
      ]
     },
     "execution_count": 55,
     "metadata": {},
     "output_type": "execute_result"
    }
   ],
   "source": [
    "client.get_symbol_ticker(symbol = \"BTCUSDT\")"
   ]
  },
  {
   "cell_type": "code",
   "execution_count": 45,
   "id": "bdb0b51b-6fb7-445a-9908-3f07f72c3073",
   "metadata": {},
   "outputs": [],
   "source": [
    "# Create Limit Buy Order that is Good to Call\n",
    "order1 = client.create_order(symbol = \"BTCUSDT\", side = \"BUY\", type = \"LIMIT\", quantity = 0.1, \n",
    "                             timeInForce = \"GTC\", price = 16600)"
   ]
  },
  {
   "cell_type": "code",
   "execution_count": 59,
   "id": "0910d459-6a69-4c1a-9c23-9a2b67892025",
   "metadata": {},
   "outputs": [],
   "source": [
    "# Create Limit Sell Order that is Good to Call\n",
    "order2 = client.create_order(symbol = \"BTCUSDT\", side = \"SELL\", type = \"LIMIT\", quantity = 0.1, \n",
    "                             timeInForce = \"GTC\", price = 17000)"
   ]
  },
  {
   "cell_type": "code",
   "execution_count": 52,
   "id": "3f95d5df-0442-44ee-afc3-e2a681e6630c",
   "metadata": {},
   "outputs": [
    {
     "data": {
      "text/plain": [
       "{'symbol': 'BTCUSDT',\n",
       " 'orderId': 12206187,\n",
       " 'orderListId': -1,\n",
       " 'clientOrderId': 'tnSdZuZ06BMA0CUtTGrwF0',\n",
       " 'transactTime': 1672794807908,\n",
       " 'price': '16700.00000000',\n",
       " 'origQty': '0.10000000',\n",
       " 'executedQty': '0.00000000',\n",
       " 'cummulativeQuoteQty': '0.00000000',\n",
       " 'status': 'NEW',\n",
       " 'timeInForce': 'GTC',\n",
       " 'type': 'LIMIT',\n",
       " 'side': 'SELL',\n",
       " 'workingTime': 1672794807908,\n",
       " 'fills': [],\n",
       " 'selfTradePreventionMode': 'NONE'}"
      ]
     },
     "execution_count": 52,
     "metadata": {},
     "output_type": "execute_result"
    }
   ],
   "source": [
    "order1"
   ]
  },
  {
   "cell_type": "code",
   "execution_count": null,
   "id": "b3a664d1-f110-4017-94f7-59ad7ed7efe2",
   "metadata": {},
   "outputs": [],
   "source": [
    "order2"
   ]
  },
  {
   "cell_type": "code",
   "execution_count": 61,
   "id": "fc1d8236-5798-47d5-b7d6-fa2b9a129426",
   "metadata": {},
   "outputs": [],
   "source": [
    "order_id_buy = order1[\"orderId\"]\n",
    "order_id_sell = order2[\"orderId\"]"
   ]
  },
  {
   "cell_type": "code",
   "execution_count": 49,
   "id": "6af116a2-dc77-4405-aa39-5c8647b18296",
   "metadata": {},
   "outputs": [
    {
     "data": {
      "text/plain": [
       "{'symbol': 'BTCUSDT',\n",
       " 'orderId': 12204625,\n",
       " 'orderListId': -1,\n",
       " 'clientOrderId': '1IQ0qI2nKpKQiqpWE1qenG',\n",
       " 'price': '16600.00000000',\n",
       " 'origQty': '0.10000000',\n",
       " 'executedQty': '0.00000000',\n",
       " 'cummulativeQuoteQty': '0.00000000',\n",
       " 'status': 'NEW',\n",
       " 'timeInForce': 'GTC',\n",
       " 'type': 'LIMIT',\n",
       " 'side': 'BUY',\n",
       " 'stopPrice': '0.00000000',\n",
       " 'icebergQty': '0.00000000',\n",
       " 'time': 1672794551542,\n",
       " 'updateTime': 1672794551542,\n",
       " 'isWorking': True,\n",
       " 'workingTime': 1672794551542,\n",
       " 'origQuoteOrderQty': '0.00000000',\n",
       " 'selfTradePreventionMode': 'NONE'}"
      ]
     },
     "execution_count": 49,
     "metadata": {},
     "output_type": "execute_result"
    }
   ],
   "source": [
    "client.get_order(symbol = \"BTCUSDT\", orderId = order_id_buy)"
   ]
  },
  {
   "cell_type": "code",
   "execution_count": 56,
   "id": "43b78ee2-14cc-457b-a0f7-ac8ca3a0995c",
   "metadata": {},
   "outputs": [
    {
     "data": {
      "text/plain": [
       "{'symbol': 'BTCUSDT',\n",
       " 'orderId': 12206187,\n",
       " 'orderListId': -1,\n",
       " 'clientOrderId': 'tnSdZuZ06BMA0CUtTGrwF0',\n",
       " 'price': '16700.00000000',\n",
       " 'origQty': '0.10000000',\n",
       " 'executedQty': '0.10000000',\n",
       " 'cummulativeQuoteQty': '1670.00000000',\n",
       " 'status': 'FILLED',\n",
       " 'timeInForce': 'GTC',\n",
       " 'type': 'LIMIT',\n",
       " 'side': 'SELL',\n",
       " 'stopPrice': '0.00000000',\n",
       " 'icebergQty': '0.00000000',\n",
       " 'time': 1672794807908,\n",
       " 'updateTime': 1672794820282,\n",
       " 'isWorking': True,\n",
       " 'workingTime': 1672794807908,\n",
       " 'origQuoteOrderQty': '0.00000000',\n",
       " 'selfTradePreventionMode': 'NONE'}"
      ]
     },
     "execution_count": 56,
     "metadata": {},
     "output_type": "execute_result"
    }
   ],
   "source": [
    "client.get_order(symbol = \"BTCUSDT\", orderId = order_id_sell)"
   ]
  },
  {
   "cell_type": "code",
   "execution_count": 70,
   "id": "fd9a8c4f-5493-4b6a-800d-67bbd5cf700e",
   "metadata": {},
   "outputs": [],
   "source": [
    "open_orders = client.get_open_orders(symbol = \"BTCUSDT\")"
   ]
  },
  {
   "cell_type": "code",
   "execution_count": 71,
   "id": "b7774afc-4ffd-4c54-821d-bb32f583c028",
   "metadata": {},
   "outputs": [
    {
     "data": {
      "text/plain": [
       "[]"
      ]
     },
     "execution_count": 71,
     "metadata": {},
     "output_type": "execute_result"
    }
   ],
   "source": [
    "open_orders"
   ]
  },
  {
   "cell_type": "code",
   "execution_count": 72,
   "id": "47e3f2bd-fc78-42fe-a25a-bd8bf2d7438b",
   "metadata": {},
   "outputs": [
    {
     "data": {
      "text/html": [
       "<div>\n",
       "<style scoped>\n",
       "    .dataframe tbody tr th:only-of-type {\n",
       "        vertical-align: middle;\n",
       "    }\n",
       "\n",
       "    .dataframe tbody tr th {\n",
       "        vertical-align: top;\n",
       "    }\n",
       "\n",
       "    .dataframe thead th {\n",
       "        text-align: right;\n",
       "    }\n",
       "</style>\n",
       "<table border=\"1\" class=\"dataframe\">\n",
       "  <thead>\n",
       "    <tr style=\"text-align: right;\">\n",
       "      <th></th>\n",
       "    </tr>\n",
       "  </thead>\n",
       "  <tbody>\n",
       "  </tbody>\n",
       "</table>\n",
       "</div>"
      ],
      "text/plain": [
       "Empty DataFrame\n",
       "Columns: []\n",
       "Index: []"
      ]
     },
     "execution_count": 72,
     "metadata": {},
     "output_type": "execute_result"
    }
   ],
   "source": [
    "df = pd.DataFrame(open_orders)\n",
    "df"
   ]
  },
  {
   "cell_type": "markdown",
   "id": "e81630ab-2324-4ccf-a00a-35459057443b",
   "metadata": {},
   "source": [
    "# Cancel Open Orders"
   ]
  },
  {
   "cell_type": "code",
   "execution_count": 73,
   "id": "190cb777-269b-4a87-8128-398c05da4a66",
   "metadata": {
    "collapsed": true,
    "jupyter": {
     "outputs_hidden": true
    },
    "tags": []
   },
   "outputs": [
    {
     "ename": "BinanceAPIException",
     "evalue": "APIError(code=-2011): Unknown order sent.",
     "output_type": "error",
     "traceback": [
      "\u001b[0;31m---------------------------------------------------------------------------\u001b[0m",
      "\u001b[0;31mBinanceAPIException\u001b[0m                       Traceback (most recent call last)",
      "Cell \u001b[0;32mIn[73], line 1\u001b[0m\n\u001b[0;32m----> 1\u001b[0m result \u001b[38;5;241m=\u001b[39m \u001b[43mclient\u001b[49m\u001b[38;5;241;43m.\u001b[39;49m\u001b[43mcancel_order\u001b[49m\u001b[43m(\u001b[49m\u001b[43msymbol\u001b[49m\u001b[43m \u001b[49m\u001b[38;5;241;43m=\u001b[39;49m\u001b[43m \u001b[49m\u001b[38;5;124;43m\"\u001b[39;49m\u001b[38;5;124;43mBTCUSDT\u001b[39;49m\u001b[38;5;124;43m\"\u001b[39;49m\u001b[43m,\u001b[49m\u001b[43m \u001b[49m\u001b[43morderId\u001b[49m\u001b[43m \u001b[49m\u001b[38;5;241;43m=\u001b[39;49m\u001b[43m \u001b[49m\u001b[43morder_id_buy\u001b[49m\u001b[43m)\u001b[49m\n\u001b[1;32m      2\u001b[0m result\n",
      "File \u001b[0;32m/usr/local/python/3.10.4/lib/python3.10/site-packages/binance/client.py:1891\u001b[0m, in \u001b[0;36mClient.cancel_order\u001b[0;34m(self, **params)\u001b[0m\n\u001b[1;32m   1861\u001b[0m \u001b[38;5;28;01mdef\u001b[39;00m \u001b[38;5;21mcancel_order\u001b[39m(\u001b[38;5;28mself\u001b[39m, \u001b[38;5;241m*\u001b[39m\u001b[38;5;241m*\u001b[39mparams):\n\u001b[1;32m   1862\u001b[0m     \u001b[38;5;124;03m\"\"\"Cancel an active order. Either orderId or origClientOrderId must be sent.\u001b[39;00m\n\u001b[1;32m   1863\u001b[0m \n\u001b[1;32m   1864\u001b[0m \u001b[38;5;124;03m    https://binance-docs.github.io/apidocs/spot/en/#cancel-order-trade\u001b[39;00m\n\u001b[0;32m   (...)\u001b[0m\n\u001b[1;32m   1889\u001b[0m \n\u001b[1;32m   1890\u001b[0m \u001b[38;5;124;03m    \"\"\"\u001b[39;00m\n\u001b[0;32m-> 1891\u001b[0m     \u001b[38;5;28;01mreturn\u001b[39;00m \u001b[38;5;28;43mself\u001b[39;49m\u001b[38;5;241;43m.\u001b[39;49m\u001b[43m_delete\u001b[49m\u001b[43m(\u001b[49m\u001b[38;5;124;43m'\u001b[39;49m\u001b[38;5;124;43morder\u001b[39;49m\u001b[38;5;124;43m'\u001b[39;49m\u001b[43m,\u001b[49m\u001b[43m \u001b[49m\u001b[38;5;28;43;01mTrue\u001b[39;49;00m\u001b[43m,\u001b[49m\u001b[43m \u001b[49m\u001b[43mdata\u001b[49m\u001b[38;5;241;43m=\u001b[39;49m\u001b[43mparams\u001b[49m\u001b[43m)\u001b[49m\n",
      "File \u001b[0;32m/usr/local/python/3.10.4/lib/python3.10/site-packages/binance/client.py:380\u001b[0m, in \u001b[0;36mClient._delete\u001b[0;34m(self, path, signed, version, **kwargs)\u001b[0m\n\u001b[1;32m    379\u001b[0m \u001b[38;5;28;01mdef\u001b[39;00m \u001b[38;5;21m_delete\u001b[39m(\u001b[38;5;28mself\u001b[39m, path, signed\u001b[38;5;241m=\u001b[39m\u001b[38;5;28;01mFalse\u001b[39;00m, version\u001b[38;5;241m=\u001b[39mBaseClient\u001b[38;5;241m.\u001b[39mPUBLIC_API_VERSION, \u001b[38;5;241m*\u001b[39m\u001b[38;5;241m*\u001b[39mkwargs) \u001b[38;5;241m-\u001b[39m\u001b[38;5;241m>\u001b[39m Dict:\n\u001b[0;32m--> 380\u001b[0m     \u001b[38;5;28;01mreturn\u001b[39;00m \u001b[38;5;28;43mself\u001b[39;49m\u001b[38;5;241;43m.\u001b[39;49m\u001b[43m_request_api\u001b[49m\u001b[43m(\u001b[49m\u001b[38;5;124;43m'\u001b[39;49m\u001b[38;5;124;43mdelete\u001b[39;49m\u001b[38;5;124;43m'\u001b[39;49m\u001b[43m,\u001b[49m\u001b[43m \u001b[49m\u001b[43mpath\u001b[49m\u001b[43m,\u001b[49m\u001b[43m \u001b[49m\u001b[43msigned\u001b[49m\u001b[43m,\u001b[49m\u001b[43m \u001b[49m\u001b[43mversion\u001b[49m\u001b[43m,\u001b[49m\u001b[43m \u001b[49m\u001b[38;5;241;43m*\u001b[39;49m\u001b[38;5;241;43m*\u001b[39;49m\u001b[43mkwargs\u001b[49m\u001b[43m)\u001b[49m\n",
      "File \u001b[0;32m/usr/local/python/3.10.4/lib/python3.10/site-packages/binance/client.py:334\u001b[0m, in \u001b[0;36mClient._request_api\u001b[0;34m(self, method, path, signed, version, **kwargs)\u001b[0m\n\u001b[1;32m    330\u001b[0m \u001b[38;5;28;01mdef\u001b[39;00m \u001b[38;5;21m_request_api\u001b[39m(\n\u001b[1;32m    331\u001b[0m     \u001b[38;5;28mself\u001b[39m, method, path: \u001b[38;5;28mstr\u001b[39m, signed: \u001b[38;5;28mbool\u001b[39m \u001b[38;5;241m=\u001b[39m \u001b[38;5;28;01mFalse\u001b[39;00m, version\u001b[38;5;241m=\u001b[39mBaseClient\u001b[38;5;241m.\u001b[39mPUBLIC_API_VERSION, \u001b[38;5;241m*\u001b[39m\u001b[38;5;241m*\u001b[39mkwargs\n\u001b[1;32m    332\u001b[0m ):\n\u001b[1;32m    333\u001b[0m     uri \u001b[38;5;241m=\u001b[39m \u001b[38;5;28mself\u001b[39m\u001b[38;5;241m.\u001b[39m_create_api_uri(path, signed, version)\n\u001b[0;32m--> 334\u001b[0m     \u001b[38;5;28;01mreturn\u001b[39;00m \u001b[38;5;28;43mself\u001b[39;49m\u001b[38;5;241;43m.\u001b[39;49m\u001b[43m_request\u001b[49m\u001b[43m(\u001b[49m\u001b[43mmethod\u001b[49m\u001b[43m,\u001b[49m\u001b[43m \u001b[49m\u001b[43muri\u001b[49m\u001b[43m,\u001b[49m\u001b[43m \u001b[49m\u001b[43msigned\u001b[49m\u001b[43m,\u001b[49m\u001b[43m \u001b[49m\u001b[38;5;241;43m*\u001b[39;49m\u001b[38;5;241;43m*\u001b[39;49m\u001b[43mkwargs\u001b[49m\u001b[43m)\u001b[49m\n",
      "File \u001b[0;32m/usr/local/python/3.10.4/lib/python3.10/site-packages/binance/client.py:315\u001b[0m, in \u001b[0;36mClient._request\u001b[0;34m(self, method, uri, signed, force_params, **kwargs)\u001b[0m\n\u001b[1;32m    312\u001b[0m kwargs \u001b[38;5;241m=\u001b[39m \u001b[38;5;28mself\u001b[39m\u001b[38;5;241m.\u001b[39m_get_request_kwargs(method, signed, force_params, \u001b[38;5;241m*\u001b[39m\u001b[38;5;241m*\u001b[39mkwargs)\n\u001b[1;32m    314\u001b[0m \u001b[38;5;28mself\u001b[39m\u001b[38;5;241m.\u001b[39mresponse \u001b[38;5;241m=\u001b[39m \u001b[38;5;28mgetattr\u001b[39m(\u001b[38;5;28mself\u001b[39m\u001b[38;5;241m.\u001b[39msession, method)(uri, \u001b[38;5;241m*\u001b[39m\u001b[38;5;241m*\u001b[39mkwargs)\n\u001b[0;32m--> 315\u001b[0m \u001b[38;5;28;01mreturn\u001b[39;00m \u001b[38;5;28;43mself\u001b[39;49m\u001b[38;5;241;43m.\u001b[39;49m\u001b[43m_handle_response\u001b[49m\u001b[43m(\u001b[49m\u001b[38;5;28;43mself\u001b[39;49m\u001b[38;5;241;43m.\u001b[39;49m\u001b[43mresponse\u001b[49m\u001b[43m)\u001b[49m\n",
      "File \u001b[0;32m/usr/local/python/3.10.4/lib/python3.10/site-packages/binance/client.py:324\u001b[0m, in \u001b[0;36mClient._handle_response\u001b[0;34m(response)\u001b[0m\n\u001b[1;32m    319\u001b[0m \u001b[38;5;124;03m\"\"\"Internal helper for handling API responses from the Binance server.\u001b[39;00m\n\u001b[1;32m    320\u001b[0m \u001b[38;5;124;03mRaises the appropriate exceptions when necessary; otherwise, returns the\u001b[39;00m\n\u001b[1;32m    321\u001b[0m \u001b[38;5;124;03mresponse.\u001b[39;00m\n\u001b[1;32m    322\u001b[0m \u001b[38;5;124;03m\"\"\"\u001b[39;00m\n\u001b[1;32m    323\u001b[0m \u001b[38;5;28;01mif\u001b[39;00m \u001b[38;5;129;01mnot\u001b[39;00m (\u001b[38;5;241m200\u001b[39m \u001b[38;5;241m<\u001b[39m\u001b[38;5;241m=\u001b[39m response\u001b[38;5;241m.\u001b[39mstatus_code \u001b[38;5;241m<\u001b[39m \u001b[38;5;241m300\u001b[39m):\n\u001b[0;32m--> 324\u001b[0m     \u001b[38;5;28;01mraise\u001b[39;00m BinanceAPIException(response, response\u001b[38;5;241m.\u001b[39mstatus_code, response\u001b[38;5;241m.\u001b[39mtext)\n\u001b[1;32m    325\u001b[0m \u001b[38;5;28;01mtry\u001b[39;00m:\n\u001b[1;32m    326\u001b[0m     \u001b[38;5;28;01mreturn\u001b[39;00m response\u001b[38;5;241m.\u001b[39mjson()\n",
      "\u001b[0;31mBinanceAPIException\u001b[0m: APIError(code=-2011): Unknown order sent."
     ]
    }
   ],
   "source": [
    "result = client.cancel_order(symbol = \"BTCUSDT\", orderId = order_id_buy)\n",
    "result"
   ]
  },
  {
   "cell_type": "code",
   "execution_count": 74,
   "id": "5b6cd9db-ba27-4de2-9aa2-f6700eae7ff1",
   "metadata": {
    "collapsed": true,
    "jupyter": {
     "outputs_hidden": true
    },
    "tags": []
   },
   "outputs": [
    {
     "ename": "BinanceAPIException",
     "evalue": "APIError(code=-2011): Unknown order sent.",
     "output_type": "error",
     "traceback": [
      "\u001b[0;31m---------------------------------------------------------------------------\u001b[0m",
      "\u001b[0;31mBinanceAPIException\u001b[0m                       Traceback (most recent call last)",
      "Cell \u001b[0;32mIn[74], line 1\u001b[0m\n\u001b[0;32m----> 1\u001b[0m result \u001b[38;5;241m=\u001b[39m \u001b[43mclient\u001b[49m\u001b[38;5;241;43m.\u001b[39;49m\u001b[43mcancel_order\u001b[49m\u001b[43m(\u001b[49m\u001b[43msymbol\u001b[49m\u001b[43m \u001b[49m\u001b[38;5;241;43m=\u001b[39;49m\u001b[43m \u001b[49m\u001b[38;5;124;43m\"\u001b[39;49m\u001b[38;5;124;43mBTCUSDT\u001b[39;49m\u001b[38;5;124;43m\"\u001b[39;49m\u001b[43m,\u001b[49m\u001b[43m \u001b[49m\u001b[43morderId\u001b[49m\u001b[43m \u001b[49m\u001b[38;5;241;43m=\u001b[39;49m\u001b[43m \u001b[49m\u001b[43morder_id_sell\u001b[49m\u001b[43m)\u001b[49m\n\u001b[1;32m      2\u001b[0m result\n",
      "File \u001b[0;32m/usr/local/python/3.10.4/lib/python3.10/site-packages/binance/client.py:1891\u001b[0m, in \u001b[0;36mClient.cancel_order\u001b[0;34m(self, **params)\u001b[0m\n\u001b[1;32m   1861\u001b[0m \u001b[38;5;28;01mdef\u001b[39;00m \u001b[38;5;21mcancel_order\u001b[39m(\u001b[38;5;28mself\u001b[39m, \u001b[38;5;241m*\u001b[39m\u001b[38;5;241m*\u001b[39mparams):\n\u001b[1;32m   1862\u001b[0m     \u001b[38;5;124;03m\"\"\"Cancel an active order. Either orderId or origClientOrderId must be sent.\u001b[39;00m\n\u001b[1;32m   1863\u001b[0m \n\u001b[1;32m   1864\u001b[0m \u001b[38;5;124;03m    https://binance-docs.github.io/apidocs/spot/en/#cancel-order-trade\u001b[39;00m\n\u001b[0;32m   (...)\u001b[0m\n\u001b[1;32m   1889\u001b[0m \n\u001b[1;32m   1890\u001b[0m \u001b[38;5;124;03m    \"\"\"\u001b[39;00m\n\u001b[0;32m-> 1891\u001b[0m     \u001b[38;5;28;01mreturn\u001b[39;00m \u001b[38;5;28;43mself\u001b[39;49m\u001b[38;5;241;43m.\u001b[39;49m\u001b[43m_delete\u001b[49m\u001b[43m(\u001b[49m\u001b[38;5;124;43m'\u001b[39;49m\u001b[38;5;124;43morder\u001b[39;49m\u001b[38;5;124;43m'\u001b[39;49m\u001b[43m,\u001b[49m\u001b[43m \u001b[49m\u001b[38;5;28;43;01mTrue\u001b[39;49;00m\u001b[43m,\u001b[49m\u001b[43m \u001b[49m\u001b[43mdata\u001b[49m\u001b[38;5;241;43m=\u001b[39;49m\u001b[43mparams\u001b[49m\u001b[43m)\u001b[49m\n",
      "File \u001b[0;32m/usr/local/python/3.10.4/lib/python3.10/site-packages/binance/client.py:380\u001b[0m, in \u001b[0;36mClient._delete\u001b[0;34m(self, path, signed, version, **kwargs)\u001b[0m\n\u001b[1;32m    379\u001b[0m \u001b[38;5;28;01mdef\u001b[39;00m \u001b[38;5;21m_delete\u001b[39m(\u001b[38;5;28mself\u001b[39m, path, signed\u001b[38;5;241m=\u001b[39m\u001b[38;5;28;01mFalse\u001b[39;00m, version\u001b[38;5;241m=\u001b[39mBaseClient\u001b[38;5;241m.\u001b[39mPUBLIC_API_VERSION, \u001b[38;5;241m*\u001b[39m\u001b[38;5;241m*\u001b[39mkwargs) \u001b[38;5;241m-\u001b[39m\u001b[38;5;241m>\u001b[39m Dict:\n\u001b[0;32m--> 380\u001b[0m     \u001b[38;5;28;01mreturn\u001b[39;00m \u001b[38;5;28;43mself\u001b[39;49m\u001b[38;5;241;43m.\u001b[39;49m\u001b[43m_request_api\u001b[49m\u001b[43m(\u001b[49m\u001b[38;5;124;43m'\u001b[39;49m\u001b[38;5;124;43mdelete\u001b[39;49m\u001b[38;5;124;43m'\u001b[39;49m\u001b[43m,\u001b[49m\u001b[43m \u001b[49m\u001b[43mpath\u001b[49m\u001b[43m,\u001b[49m\u001b[43m \u001b[49m\u001b[43msigned\u001b[49m\u001b[43m,\u001b[49m\u001b[43m \u001b[49m\u001b[43mversion\u001b[49m\u001b[43m,\u001b[49m\u001b[43m \u001b[49m\u001b[38;5;241;43m*\u001b[39;49m\u001b[38;5;241;43m*\u001b[39;49m\u001b[43mkwargs\u001b[49m\u001b[43m)\u001b[49m\n",
      "File \u001b[0;32m/usr/local/python/3.10.4/lib/python3.10/site-packages/binance/client.py:334\u001b[0m, in \u001b[0;36mClient._request_api\u001b[0;34m(self, method, path, signed, version, **kwargs)\u001b[0m\n\u001b[1;32m    330\u001b[0m \u001b[38;5;28;01mdef\u001b[39;00m \u001b[38;5;21m_request_api\u001b[39m(\n\u001b[1;32m    331\u001b[0m     \u001b[38;5;28mself\u001b[39m, method, path: \u001b[38;5;28mstr\u001b[39m, signed: \u001b[38;5;28mbool\u001b[39m \u001b[38;5;241m=\u001b[39m \u001b[38;5;28;01mFalse\u001b[39;00m, version\u001b[38;5;241m=\u001b[39mBaseClient\u001b[38;5;241m.\u001b[39mPUBLIC_API_VERSION, \u001b[38;5;241m*\u001b[39m\u001b[38;5;241m*\u001b[39mkwargs\n\u001b[1;32m    332\u001b[0m ):\n\u001b[1;32m    333\u001b[0m     uri \u001b[38;5;241m=\u001b[39m \u001b[38;5;28mself\u001b[39m\u001b[38;5;241m.\u001b[39m_create_api_uri(path, signed, version)\n\u001b[0;32m--> 334\u001b[0m     \u001b[38;5;28;01mreturn\u001b[39;00m \u001b[38;5;28;43mself\u001b[39;49m\u001b[38;5;241;43m.\u001b[39;49m\u001b[43m_request\u001b[49m\u001b[43m(\u001b[49m\u001b[43mmethod\u001b[49m\u001b[43m,\u001b[49m\u001b[43m \u001b[49m\u001b[43muri\u001b[49m\u001b[43m,\u001b[49m\u001b[43m \u001b[49m\u001b[43msigned\u001b[49m\u001b[43m,\u001b[49m\u001b[43m \u001b[49m\u001b[38;5;241;43m*\u001b[39;49m\u001b[38;5;241;43m*\u001b[39;49m\u001b[43mkwargs\u001b[49m\u001b[43m)\u001b[49m\n",
      "File \u001b[0;32m/usr/local/python/3.10.4/lib/python3.10/site-packages/binance/client.py:315\u001b[0m, in \u001b[0;36mClient._request\u001b[0;34m(self, method, uri, signed, force_params, **kwargs)\u001b[0m\n\u001b[1;32m    312\u001b[0m kwargs \u001b[38;5;241m=\u001b[39m \u001b[38;5;28mself\u001b[39m\u001b[38;5;241m.\u001b[39m_get_request_kwargs(method, signed, force_params, \u001b[38;5;241m*\u001b[39m\u001b[38;5;241m*\u001b[39mkwargs)\n\u001b[1;32m    314\u001b[0m \u001b[38;5;28mself\u001b[39m\u001b[38;5;241m.\u001b[39mresponse \u001b[38;5;241m=\u001b[39m \u001b[38;5;28mgetattr\u001b[39m(\u001b[38;5;28mself\u001b[39m\u001b[38;5;241m.\u001b[39msession, method)(uri, \u001b[38;5;241m*\u001b[39m\u001b[38;5;241m*\u001b[39mkwargs)\n\u001b[0;32m--> 315\u001b[0m \u001b[38;5;28;01mreturn\u001b[39;00m \u001b[38;5;28;43mself\u001b[39;49m\u001b[38;5;241;43m.\u001b[39;49m\u001b[43m_handle_response\u001b[49m\u001b[43m(\u001b[49m\u001b[38;5;28;43mself\u001b[39;49m\u001b[38;5;241;43m.\u001b[39;49m\u001b[43mresponse\u001b[49m\u001b[43m)\u001b[49m\n",
      "File \u001b[0;32m/usr/local/python/3.10.4/lib/python3.10/site-packages/binance/client.py:324\u001b[0m, in \u001b[0;36mClient._handle_response\u001b[0;34m(response)\u001b[0m\n\u001b[1;32m    319\u001b[0m \u001b[38;5;124;03m\"\"\"Internal helper for handling API responses from the Binance server.\u001b[39;00m\n\u001b[1;32m    320\u001b[0m \u001b[38;5;124;03mRaises the appropriate exceptions when necessary; otherwise, returns the\u001b[39;00m\n\u001b[1;32m    321\u001b[0m \u001b[38;5;124;03mresponse.\u001b[39;00m\n\u001b[1;32m    322\u001b[0m \u001b[38;5;124;03m\"\"\"\u001b[39;00m\n\u001b[1;32m    323\u001b[0m \u001b[38;5;28;01mif\u001b[39;00m \u001b[38;5;129;01mnot\u001b[39;00m (\u001b[38;5;241m200\u001b[39m \u001b[38;5;241m<\u001b[39m\u001b[38;5;241m=\u001b[39m response\u001b[38;5;241m.\u001b[39mstatus_code \u001b[38;5;241m<\u001b[39m \u001b[38;5;241m300\u001b[39m):\n\u001b[0;32m--> 324\u001b[0m     \u001b[38;5;28;01mraise\u001b[39;00m BinanceAPIException(response, response\u001b[38;5;241m.\u001b[39mstatus_code, response\u001b[38;5;241m.\u001b[39mtext)\n\u001b[1;32m    325\u001b[0m \u001b[38;5;28;01mtry\u001b[39;00m:\n\u001b[1;32m    326\u001b[0m     \u001b[38;5;28;01mreturn\u001b[39;00m response\u001b[38;5;241m.\u001b[39mjson()\n",
      "\u001b[0;31mBinanceAPIException\u001b[0m: APIError(code=-2011): Unknown order sent."
     ]
    }
   ],
   "source": [
    "result = client.cancel_order(symbol = \"BTCUSDT\", orderId = order_id_sell)\n",
    "result"
   ]
  },
  {
   "cell_type": "markdown",
   "id": "e1689b33-e727-4d72-9e68-cdf3d9ca7c19",
   "metadata": {},
   "source": [
    "# Get Order History"
   ]
  },
  {
   "cell_type": "code",
   "execution_count": 75,
   "id": "403614ab-ef93-41bc-bd65-79220ca6e840",
   "metadata": {},
   "outputs": [
    {
     "data": {
      "text/plain": [
       "[{'symbol': 'BTCUSDT',\n",
       "  'orderId': 12196506,\n",
       "  'orderListId': -1,\n",
       "  'clientOrderId': 'PjFwpJhJD0TLDPvUjYTXrl',\n",
       "  'price': '0.00000000',\n",
       "  'origQty': '0.10000000',\n",
       "  'executedQty': '0.10000000',\n",
       "  'cummulativeQuoteQty': '1665.93800000',\n",
       "  'status': 'FILLED',\n",
       "  'timeInForce': 'GTC',\n",
       "  'type': 'MARKET',\n",
       "  'side': 'BUY',\n",
       "  'stopPrice': '0.00000000',\n",
       "  'icebergQty': '0.00000000',\n",
       "  'time': 1672793284414,\n",
       "  'updateTime': 1672793284414,\n",
       "  'isWorking': True,\n",
       "  'workingTime': 1672793284414,\n",
       "  'origQuoteOrderQty': '0.00000000',\n",
       "  'selfTradePreventionMode': 'NONE'},\n",
       " {'symbol': 'BTCUSDT',\n",
       "  'orderId': 12200478,\n",
       "  'orderListId': -1,\n",
       "  'clientOrderId': 'tSA6joXkNqHjbOGHjXf8mn',\n",
       "  'price': '0.00000000',\n",
       "  'origQty': '0.06002100',\n",
       "  'executedQty': '0.06002100',\n",
       "  'cummulativeQuoteQty': '999.99307512',\n",
       "  'status': 'FILLED',\n",
       "  'timeInForce': 'GTC',\n",
       "  'type': 'MARKET',\n",
       "  'side': 'BUY',\n",
       "  'stopPrice': '0.00000000',\n",
       "  'icebergQty': '0.00000000',\n",
       "  'time': 1672793894642,\n",
       "  'updateTime': 1672793894642,\n",
       "  'isWorking': True,\n",
       "  'workingTime': 1672793894642,\n",
       "  'origQuoteOrderQty': '1000.00000000',\n",
       "  'selfTradePreventionMode': 'NONE'},\n",
       " {'symbol': 'BTCUSDT',\n",
       "  'orderId': 12202491,\n",
       "  'orderListId': -1,\n",
       "  'clientOrderId': 'fQHFFgAG5uQpQmoArF3z1R',\n",
       "  'price': '0.00000000',\n",
       "  'origQty': '0.16002100',\n",
       "  'executedQty': '0.16002100',\n",
       "  'cummulativeQuoteQty': '2666.64115072',\n",
       "  'status': 'FILLED',\n",
       "  'timeInForce': 'GTC',\n",
       "  'type': 'MARKET',\n",
       "  'side': 'SELL',\n",
       "  'stopPrice': '0.00000000',\n",
       "  'icebergQty': '0.00000000',\n",
       "  'time': 1672794241876,\n",
       "  'updateTime': 1672794241876,\n",
       "  'isWorking': True,\n",
       "  'workingTime': 1672794241876,\n",
       "  'origQuoteOrderQty': '0.00000000',\n",
       "  'selfTradePreventionMode': 'NONE'},\n",
       " {'symbol': 'BTCUSDT',\n",
       "  'orderId': 12204625,\n",
       "  'orderListId': -1,\n",
       "  'clientOrderId': '1IQ0qI2nKpKQiqpWE1qenG',\n",
       "  'price': '16600.00000000',\n",
       "  'origQty': '0.10000000',\n",
       "  'executedQty': '0.00000000',\n",
       "  'cummulativeQuoteQty': '0.00000000',\n",
       "  'status': 'CANCELED',\n",
       "  'timeInForce': 'GTC',\n",
       "  'type': 'LIMIT',\n",
       "  'side': 'BUY',\n",
       "  'stopPrice': '0.00000000',\n",
       "  'icebergQty': '0.00000000',\n",
       "  'time': 1672794551542,\n",
       "  'updateTime': 1672796261478,\n",
       "  'isWorking': True,\n",
       "  'workingTime': 1672794551542,\n",
       "  'origQuoteOrderQty': '0.00000000',\n",
       "  'selfTradePreventionMode': 'NONE'},\n",
       " {'symbol': 'BTCUSDT',\n",
       "  'orderId': 12206187,\n",
       "  'orderListId': -1,\n",
       "  'clientOrderId': 'tnSdZuZ06BMA0CUtTGrwF0',\n",
       "  'price': '16700.00000000',\n",
       "  'origQty': '0.10000000',\n",
       "  'executedQty': '0.10000000',\n",
       "  'cummulativeQuoteQty': '1670.00000000',\n",
       "  'status': 'FILLED',\n",
       "  'timeInForce': 'GTC',\n",
       "  'type': 'LIMIT',\n",
       "  'side': 'SELL',\n",
       "  'stopPrice': '0.00000000',\n",
       "  'icebergQty': '0.00000000',\n",
       "  'time': 1672794807908,\n",
       "  'updateTime': 1672794820282,\n",
       "  'isWorking': True,\n",
       "  'workingTime': 1672794807908,\n",
       "  'origQuoteOrderQty': '0.00000000',\n",
       "  'selfTradePreventionMode': 'NONE'},\n",
       " {'symbol': 'BTCUSDT',\n",
       "  'orderId': 12206887,\n",
       "  'orderListId': -1,\n",
       "  'clientOrderId': 'PA6VVagmuNmy6La4uCYGBi',\n",
       "  'price': '17000.00000000',\n",
       "  'origQty': '0.10000000',\n",
       "  'executedQty': '0.00000000',\n",
       "  'cummulativeQuoteQty': '0.00000000',\n",
       "  'status': 'CANCELED',\n",
       "  'timeInForce': 'GTC',\n",
       "  'type': 'LIMIT',\n",
       "  'side': 'SELL',\n",
       "  'stopPrice': '0.00000000',\n",
       "  'icebergQty': '0.00000000',\n",
       "  'time': 1672794927598,\n",
       "  'updateTime': 1672796262174,\n",
       "  'isWorking': True,\n",
       "  'workingTime': 1672794927598,\n",
       "  'origQuoteOrderQty': '0.00000000',\n",
       "  'selfTradePreventionMode': 'NONE'}]"
      ]
     },
     "execution_count": 75,
     "metadata": {},
     "output_type": "execute_result"
    }
   ],
   "source": [
    "all_orders = client.get_all_orders(symbol = \"BTCUSDT\")\n",
    "all_orders"
   ]
  },
  {
   "cell_type": "code",
   "execution_count": 76,
   "id": "ad662363-406d-4747-a398-869518c6d4f6",
   "metadata": {},
   "outputs": [
    {
     "data": {
      "text/html": [
       "<div>\n",
       "<style scoped>\n",
       "    .dataframe tbody tr th:only-of-type {\n",
       "        vertical-align: middle;\n",
       "    }\n",
       "\n",
       "    .dataframe tbody tr th {\n",
       "        vertical-align: top;\n",
       "    }\n",
       "\n",
       "    .dataframe thead th {\n",
       "        text-align: right;\n",
       "    }\n",
       "</style>\n",
       "<table border=\"1\" class=\"dataframe\">\n",
       "  <thead>\n",
       "    <tr style=\"text-align: right;\">\n",
       "      <th></th>\n",
       "      <th>symbol</th>\n",
       "      <th>orderId</th>\n",
       "      <th>orderListId</th>\n",
       "      <th>clientOrderId</th>\n",
       "      <th>price</th>\n",
       "      <th>origQty</th>\n",
       "      <th>executedQty</th>\n",
       "      <th>cummulativeQuoteQty</th>\n",
       "      <th>status</th>\n",
       "      <th>timeInForce</th>\n",
       "      <th>type</th>\n",
       "      <th>side</th>\n",
       "      <th>stopPrice</th>\n",
       "      <th>icebergQty</th>\n",
       "      <th>time</th>\n",
       "      <th>updateTime</th>\n",
       "      <th>isWorking</th>\n",
       "      <th>workingTime</th>\n",
       "      <th>origQuoteOrderQty</th>\n",
       "      <th>selfTradePreventionMode</th>\n",
       "    </tr>\n",
       "  </thead>\n",
       "  <tbody>\n",
       "    <tr>\n",
       "      <th>0</th>\n",
       "      <td>BTCUSDT</td>\n",
       "      <td>12196506</td>\n",
       "      <td>-1</td>\n",
       "      <td>PjFwpJhJD0TLDPvUjYTXrl</td>\n",
       "      <td>0.00000000</td>\n",
       "      <td>0.10000000</td>\n",
       "      <td>0.10000000</td>\n",
       "      <td>1665.93800000</td>\n",
       "      <td>FILLED</td>\n",
       "      <td>GTC</td>\n",
       "      <td>MARKET</td>\n",
       "      <td>BUY</td>\n",
       "      <td>0.00000000</td>\n",
       "      <td>0.00000000</td>\n",
       "      <td>1672793284414</td>\n",
       "      <td>1672793284414</td>\n",
       "      <td>True</td>\n",
       "      <td>1672793284414</td>\n",
       "      <td>0.00000000</td>\n",
       "      <td>NONE</td>\n",
       "    </tr>\n",
       "    <tr>\n",
       "      <th>1</th>\n",
       "      <td>BTCUSDT</td>\n",
       "      <td>12200478</td>\n",
       "      <td>-1</td>\n",
       "      <td>tSA6joXkNqHjbOGHjXf8mn</td>\n",
       "      <td>0.00000000</td>\n",
       "      <td>0.06002100</td>\n",
       "      <td>0.06002100</td>\n",
       "      <td>999.99307512</td>\n",
       "      <td>FILLED</td>\n",
       "      <td>GTC</td>\n",
       "      <td>MARKET</td>\n",
       "      <td>BUY</td>\n",
       "      <td>0.00000000</td>\n",
       "      <td>0.00000000</td>\n",
       "      <td>1672793894642</td>\n",
       "      <td>1672793894642</td>\n",
       "      <td>True</td>\n",
       "      <td>1672793894642</td>\n",
       "      <td>1000.00000000</td>\n",
       "      <td>NONE</td>\n",
       "    </tr>\n",
       "    <tr>\n",
       "      <th>2</th>\n",
       "      <td>BTCUSDT</td>\n",
       "      <td>12202491</td>\n",
       "      <td>-1</td>\n",
       "      <td>fQHFFgAG5uQpQmoArF3z1R</td>\n",
       "      <td>0.00000000</td>\n",
       "      <td>0.16002100</td>\n",
       "      <td>0.16002100</td>\n",
       "      <td>2666.64115072</td>\n",
       "      <td>FILLED</td>\n",
       "      <td>GTC</td>\n",
       "      <td>MARKET</td>\n",
       "      <td>SELL</td>\n",
       "      <td>0.00000000</td>\n",
       "      <td>0.00000000</td>\n",
       "      <td>1672794241876</td>\n",
       "      <td>1672794241876</td>\n",
       "      <td>True</td>\n",
       "      <td>1672794241876</td>\n",
       "      <td>0.00000000</td>\n",
       "      <td>NONE</td>\n",
       "    </tr>\n",
       "    <tr>\n",
       "      <th>3</th>\n",
       "      <td>BTCUSDT</td>\n",
       "      <td>12204625</td>\n",
       "      <td>-1</td>\n",
       "      <td>1IQ0qI2nKpKQiqpWE1qenG</td>\n",
       "      <td>16600.00000000</td>\n",
       "      <td>0.10000000</td>\n",
       "      <td>0.00000000</td>\n",
       "      <td>0.00000000</td>\n",
       "      <td>CANCELED</td>\n",
       "      <td>GTC</td>\n",
       "      <td>LIMIT</td>\n",
       "      <td>BUY</td>\n",
       "      <td>0.00000000</td>\n",
       "      <td>0.00000000</td>\n",
       "      <td>1672794551542</td>\n",
       "      <td>1672796261478</td>\n",
       "      <td>True</td>\n",
       "      <td>1672794551542</td>\n",
       "      <td>0.00000000</td>\n",
       "      <td>NONE</td>\n",
       "    </tr>\n",
       "    <tr>\n",
       "      <th>4</th>\n",
       "      <td>BTCUSDT</td>\n",
       "      <td>12206187</td>\n",
       "      <td>-1</td>\n",
       "      <td>tnSdZuZ06BMA0CUtTGrwF0</td>\n",
       "      <td>16700.00000000</td>\n",
       "      <td>0.10000000</td>\n",
       "      <td>0.10000000</td>\n",
       "      <td>1670.00000000</td>\n",
       "      <td>FILLED</td>\n",
       "      <td>GTC</td>\n",
       "      <td>LIMIT</td>\n",
       "      <td>SELL</td>\n",
       "      <td>0.00000000</td>\n",
       "      <td>0.00000000</td>\n",
       "      <td>1672794807908</td>\n",
       "      <td>1672794820282</td>\n",
       "      <td>True</td>\n",
       "      <td>1672794807908</td>\n",
       "      <td>0.00000000</td>\n",
       "      <td>NONE</td>\n",
       "    </tr>\n",
       "    <tr>\n",
       "      <th>5</th>\n",
       "      <td>BTCUSDT</td>\n",
       "      <td>12206887</td>\n",
       "      <td>-1</td>\n",
       "      <td>PA6VVagmuNmy6La4uCYGBi</td>\n",
       "      <td>17000.00000000</td>\n",
       "      <td>0.10000000</td>\n",
       "      <td>0.00000000</td>\n",
       "      <td>0.00000000</td>\n",
       "      <td>CANCELED</td>\n",
       "      <td>GTC</td>\n",
       "      <td>LIMIT</td>\n",
       "      <td>SELL</td>\n",
       "      <td>0.00000000</td>\n",
       "      <td>0.00000000</td>\n",
       "      <td>1672794927598</td>\n",
       "      <td>1672796262174</td>\n",
       "      <td>True</td>\n",
       "      <td>1672794927598</td>\n",
       "      <td>0.00000000</td>\n",
       "      <td>NONE</td>\n",
       "    </tr>\n",
       "  </tbody>\n",
       "</table>\n",
       "</div>"
      ],
      "text/plain": [
       "    symbol   orderId  orderListId           clientOrderId           price  \\\n",
       "0  BTCUSDT  12196506           -1  PjFwpJhJD0TLDPvUjYTXrl      0.00000000   \n",
       "1  BTCUSDT  12200478           -1  tSA6joXkNqHjbOGHjXf8mn      0.00000000   \n",
       "2  BTCUSDT  12202491           -1  fQHFFgAG5uQpQmoArF3z1R      0.00000000   \n",
       "3  BTCUSDT  12204625           -1  1IQ0qI2nKpKQiqpWE1qenG  16600.00000000   \n",
       "4  BTCUSDT  12206187           -1  tnSdZuZ06BMA0CUtTGrwF0  16700.00000000   \n",
       "5  BTCUSDT  12206887           -1  PA6VVagmuNmy6La4uCYGBi  17000.00000000   \n",
       "\n",
       "      origQty executedQty cummulativeQuoteQty    status timeInForce    type  \\\n",
       "0  0.10000000  0.10000000       1665.93800000    FILLED         GTC  MARKET   \n",
       "1  0.06002100  0.06002100        999.99307512    FILLED         GTC  MARKET   \n",
       "2  0.16002100  0.16002100       2666.64115072    FILLED         GTC  MARKET   \n",
       "3  0.10000000  0.00000000          0.00000000  CANCELED         GTC   LIMIT   \n",
       "4  0.10000000  0.10000000       1670.00000000    FILLED         GTC   LIMIT   \n",
       "5  0.10000000  0.00000000          0.00000000  CANCELED         GTC   LIMIT   \n",
       "\n",
       "   side   stopPrice  icebergQty           time     updateTime  isWorking  \\\n",
       "0   BUY  0.00000000  0.00000000  1672793284414  1672793284414       True   \n",
       "1   BUY  0.00000000  0.00000000  1672793894642  1672793894642       True   \n",
       "2  SELL  0.00000000  0.00000000  1672794241876  1672794241876       True   \n",
       "3   BUY  0.00000000  0.00000000  1672794551542  1672796261478       True   \n",
       "4  SELL  0.00000000  0.00000000  1672794807908  1672794820282       True   \n",
       "5  SELL  0.00000000  0.00000000  1672794927598  1672796262174       True   \n",
       "\n",
       "     workingTime origQuoteOrderQty selfTradePreventionMode  \n",
       "0  1672793284414        0.00000000                    NONE  \n",
       "1  1672793894642     1000.00000000                    NONE  \n",
       "2  1672794241876        0.00000000                    NONE  \n",
       "3  1672794551542        0.00000000                    NONE  \n",
       "4  1672794807908        0.00000000                    NONE  \n",
       "5  1672794927598        0.00000000                    NONE  "
      ]
     },
     "execution_count": 76,
     "metadata": {},
     "output_type": "execute_result"
    }
   ],
   "source": [
    "pd.DataFrame(all_orders)"
   ]
  },
  {
   "cell_type": "code",
   "execution_count": 77,
   "id": "943fe015-13e2-4895-99a0-9a208d28bdb3",
   "metadata": {},
   "outputs": [],
   "source": [
    "trades = client.get_my_trades(symbol = \"BTCUSDT\")"
   ]
  },
  {
   "cell_type": "code",
   "execution_count": 78,
   "id": "778608c1-990a-456f-85b8-2705cc21451b",
   "metadata": {},
   "outputs": [
    {
     "data": {
      "text/html": [
       "<div>\n",
       "<style scoped>\n",
       "    .dataframe tbody tr th:only-of-type {\n",
       "        vertical-align: middle;\n",
       "    }\n",
       "\n",
       "    .dataframe tbody tr th {\n",
       "        vertical-align: top;\n",
       "    }\n",
       "\n",
       "    .dataframe thead th {\n",
       "        text-align: right;\n",
       "    }\n",
       "</style>\n",
       "<table border=\"1\" class=\"dataframe\">\n",
       "  <thead>\n",
       "    <tr style=\"text-align: right;\">\n",
       "      <th></th>\n",
       "      <th>symbol</th>\n",
       "      <th>id</th>\n",
       "      <th>orderId</th>\n",
       "      <th>orderListId</th>\n",
       "      <th>price</th>\n",
       "      <th>qty</th>\n",
       "      <th>quoteQty</th>\n",
       "      <th>commission</th>\n",
       "      <th>commissionAsset</th>\n",
       "      <th>time</th>\n",
       "      <th>isBuyer</th>\n",
       "      <th>isMaker</th>\n",
       "      <th>isBestMatch</th>\n",
       "    </tr>\n",
       "  </thead>\n",
       "  <tbody>\n",
       "    <tr>\n",
       "      <th>0</th>\n",
       "      <td>BTCUSDT</td>\n",
       "      <td>2364247</td>\n",
       "      <td>12196506</td>\n",
       "      <td>-1</td>\n",
       "      <td>16659.38000000</td>\n",
       "      <td>0.10000000</td>\n",
       "      <td>1665.93800000</td>\n",
       "      <td>0.00000000</td>\n",
       "      <td>BTC</td>\n",
       "      <td>1672793284414</td>\n",
       "      <td>True</td>\n",
       "      <td>False</td>\n",
       "      <td>True</td>\n",
       "    </tr>\n",
       "    <tr>\n",
       "      <th>1</th>\n",
       "      <td>BTCUSDT</td>\n",
       "      <td>2364951</td>\n",
       "      <td>12200478</td>\n",
       "      <td>-1</td>\n",
       "      <td>16660.72000000</td>\n",
       "      <td>0.06002100</td>\n",
       "      <td>999.99307512</td>\n",
       "      <td>0.00000000</td>\n",
       "      <td>BTC</td>\n",
       "      <td>1672793894642</td>\n",
       "      <td>True</td>\n",
       "      <td>False</td>\n",
       "      <td>True</td>\n",
       "    </tr>\n",
       "    <tr>\n",
       "      <th>2</th>\n",
       "      <td>BTCUSDT</td>\n",
       "      <td>2365338</td>\n",
       "      <td>12202491</td>\n",
       "      <td>-1</td>\n",
       "      <td>16664.32000000</td>\n",
       "      <td>0.16002100</td>\n",
       "      <td>2666.64115072</td>\n",
       "      <td>0.00000000</td>\n",
       "      <td>USDT</td>\n",
       "      <td>1672794241876</td>\n",
       "      <td>False</td>\n",
       "      <td>False</td>\n",
       "      <td>True</td>\n",
       "    </tr>\n",
       "    <tr>\n",
       "      <th>3</th>\n",
       "      <td>BTCUSDT</td>\n",
       "      <td>2366432</td>\n",
       "      <td>12206187</td>\n",
       "      <td>-1</td>\n",
       "      <td>16700.00000000</td>\n",
       "      <td>0.09160900</td>\n",
       "      <td>1529.87030000</td>\n",
       "      <td>0.00000000</td>\n",
       "      <td>USDT</td>\n",
       "      <td>1672794820272</td>\n",
       "      <td>False</td>\n",
       "      <td>True</td>\n",
       "      <td>True</td>\n",
       "    </tr>\n",
       "    <tr>\n",
       "      <th>4</th>\n",
       "      <td>BTCUSDT</td>\n",
       "      <td>2366433</td>\n",
       "      <td>12206187</td>\n",
       "      <td>-1</td>\n",
       "      <td>16700.00000000</td>\n",
       "      <td>0.00839100</td>\n",
       "      <td>140.12970000</td>\n",
       "      <td>0.00000000</td>\n",
       "      <td>USDT</td>\n",
       "      <td>1672794820282</td>\n",
       "      <td>False</td>\n",
       "      <td>True</td>\n",
       "      <td>True</td>\n",
       "    </tr>\n",
       "  </tbody>\n",
       "</table>\n",
       "</div>"
      ],
      "text/plain": [
       "    symbol       id   orderId  orderListId           price         qty  \\\n",
       "0  BTCUSDT  2364247  12196506           -1  16659.38000000  0.10000000   \n",
       "1  BTCUSDT  2364951  12200478           -1  16660.72000000  0.06002100   \n",
       "2  BTCUSDT  2365338  12202491           -1  16664.32000000  0.16002100   \n",
       "3  BTCUSDT  2366432  12206187           -1  16700.00000000  0.09160900   \n",
       "4  BTCUSDT  2366433  12206187           -1  16700.00000000  0.00839100   \n",
       "\n",
       "        quoteQty  commission commissionAsset           time  isBuyer  isMaker  \\\n",
       "0  1665.93800000  0.00000000             BTC  1672793284414     True    False   \n",
       "1   999.99307512  0.00000000             BTC  1672793894642     True    False   \n",
       "2  2666.64115072  0.00000000            USDT  1672794241876    False    False   \n",
       "3  1529.87030000  0.00000000            USDT  1672794820272    False     True   \n",
       "4   140.12970000  0.00000000            USDT  1672794820282    False     True   \n",
       "\n",
       "   isBestMatch  \n",
       "0         True  \n",
       "1         True  \n",
       "2         True  \n",
       "3         True  \n",
       "4         True  "
      ]
     },
     "execution_count": 78,
     "metadata": {},
     "output_type": "execute_result"
    }
   ],
   "source": [
    "pd.DataFrame(trades)"
   ]
  },
  {
   "cell_type": "code",
   "execution_count": null,
   "id": "c37256be-c428-478a-aa7e-8b0d26278fc9",
   "metadata": {},
   "outputs": [],
   "source": []
  }
 ],
 "metadata": {
  "kernelspec": {
   "display_name": "Python 3 (ipykernel)",
   "language": "python",
   "name": "python3"
  },
  "language_info": {
   "codemirror_mode": {
    "name": "ipython",
    "version": 3
   },
   "file_extension": ".py",
   "mimetype": "text/x-python",
   "name": "python",
   "nbconvert_exporter": "python",
   "pygments_lexer": "ipython3",
   "version": "3.10.4"
  }
 },
 "nbformat": 4,
 "nbformat_minor": 5
}

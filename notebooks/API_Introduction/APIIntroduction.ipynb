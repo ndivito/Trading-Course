{
 "cells": [
  {
   "cell_type": "code",
   "execution_count": 3,
   "id": "8ad6a28d-c2f6-4071-9029-7273352d8411",
   "metadata": {},
   "outputs": [],
   "source": [
    "import os\n",
    "import pandas as pd\n",
    "from binance.client import Client"
   ]
  },
  {
   "cell_type": "code",
   "execution_count": 4,
   "id": "1252fb6a-3f49-4781-b5a9-9bb912043d88",
   "metadata": {
    "tags": []
   },
   "outputs": [],
   "source": [
    "API_KEY = os.getenv('BINANCE_API')\n",
    "API_SECRET = os.getenv('BINANCE_SECRET')"
   ]
  },
  {
   "cell_type": "code",
   "execution_count": 5,
   "id": "925abc7b-9ba4-425c-9787-9748f9016d6a",
   "metadata": {},
   "outputs": [],
   "source": [
    "client = Client(api_key = API_KEY, api_secret = API_SECRET, tld = \"us\")"
   ]
  },
  {
   "cell_type": "code",
   "execution_count": 6,
   "id": "223f1ca4-2898-4dce-b650-0efe183513f1",
   "metadata": {},
   "outputs": [
    {
     "data": {
      "text/plain": [
       "{}"
      ]
     },
     "execution_count": 6,
     "metadata": {},
     "output_type": "execute_result"
    }
   ],
   "source": [
    "client.ping()"
   ]
  },
  {
   "cell_type": "code",
   "execution_count": 7,
   "id": "08d7ddd1-1f90-4ff2-97eb-ea4f923ccb5d",
   "metadata": {},
   "outputs": [
    {
     "data": {
      "text/plain": [
       "{'serverTime': 1671847410020}"
      ]
     },
     "execution_count": 7,
     "metadata": {},
     "output_type": "execute_result"
    }
   ],
   "source": [
    "client.get_server_time()"
   ]
  },
  {
   "cell_type": "code",
   "execution_count": 8,
   "id": "eefd6806-ab57-45f8-aec6-e11013a5a6fa",
   "metadata": {
    "tags": []
   },
   "outputs": [
    {
     "data": {
      "text/plain": [
       "'SPOT'"
      ]
     },
     "execution_count": 8,
     "metadata": {},
     "output_type": "execute_result"
    }
   ],
   "source": [
    "account = client.get_account()\n",
    "account[\"accountType\"]  #Account Type"
   ]
  },
  {
   "cell_type": "code",
   "execution_count": 9,
   "id": "88d7dadf-96e3-4320-8e22-bc54c3af0935",
   "metadata": {
    "tags": []
   },
   "outputs": [
    {
     "data": {
      "text/plain": [
       "Timestamp('2022-09-27 16:12:32.888000')"
      ]
     },
     "execution_count": 9,
     "metadata": {},
     "output_type": "execute_result"
    }
   ],
   "source": [
    "pd.to_datetime(account[\"updateTime\"], unit = \"ms\") #Last Update -> UTC Time"
   ]
  },
  {
   "cell_type": "code",
   "execution_count": 10,
   "id": "e0c1e10b-97f3-4826-8dac-5d980b5a0e83",
   "metadata": {
    "tags": []
   },
   "outputs": [
    {
     "data": {
      "text/plain": [
       "[{'asset': 'BTC', 'free': '0.00000000', 'locked': '0.00000000'},\n",
       " {'asset': 'ETH', 'free': '0.00000246', 'locked': '0.00000000'},\n",
       " {'asset': 'USD', 'free': '0.0731', 'locked': '0.0000'},\n",
       " {'asset': 'XRP', 'free': '0.00000000', 'locked': '0.00000000'},\n",
       " {'asset': 'USDT', 'free': '0.12797628', 'locked': '0.00000000'},\n",
       " {'asset': 'BCH', 'free': '0.00000000', 'locked': '0.00000000'},\n",
       " {'asset': 'LTC', 'free': '0.00000000', 'locked': '0.00000000'},\n",
       " {'asset': 'ADA', 'free': '0.00000000', 'locked': '0.00000000'},\n",
       " {'asset': 'XLM', 'free': '0.00000000', 'locked': '0.00000000'},\n",
       " {'asset': 'BAT', 'free': '0.00000000', 'locked': '0.00000000'},\n",
       " {'asset': 'ETC', 'free': '0.00000000', 'locked': '0.00000000'},\n",
       " {'asset': 'ZRX', 'free': '0.00000000', 'locked': '0.00000000'},\n",
       " {'asset': 'BNB', 'free': '0.00000000', 'locked': '0.00000000'},\n",
       " {'asset': 'LINK', 'free': '0.00000000', 'locked': '0.00000000'},\n",
       " {'asset': 'REP', 'free': '0.00000000', 'locked': '0.00000000'},\n",
       " {'asset': 'RVN', 'free': '0.00000000', 'locked': '0.00000000'},\n",
       " {'asset': 'DASH', 'free': '0.00000000', 'locked': '0.00000000'},\n",
       " {'asset': 'ZEC', 'free': '0.00000000', 'locked': '0.00000000'},\n",
       " {'asset': 'ALGO', 'free': '0.00000000', 'locked': '0.00000000'},\n",
       " {'asset': 'IOTA', 'free': '0.00000000', 'locked': '0.00000000'},\n",
       " {'asset': 'BUSD', 'free': '0.00000000', 'locked': '0.00000000'},\n",
       " {'asset': 'DOGE', 'free': '0.00000000', 'locked': '0.00000000'},\n",
       " {'asset': 'WAVES', 'free': '0.00000000', 'locked': '0.00000000'},\n",
       " {'asset': 'ATOM', 'free': '0.00000000', 'locked': '0.00000000'},\n",
       " {'asset': 'NEO', 'free': '0.00000000', 'locked': '0.00000000'},\n",
       " {'asset': 'VET', 'free': '0.00000000', 'locked': '0.00000000'},\n",
       " {'asset': 'QTUM', 'free': '0.00000000', 'locked': '0.00000000'},\n",
       " {'asset': 'NANO', 'free': '0.00000000', 'locked': '0.00000000'},\n",
       " {'asset': 'EOS', 'free': '0.00000000', 'locked': '0.00000000'},\n",
       " {'asset': 'ICX', 'free': '0.00000000', 'locked': '0.00000000'},\n",
       " {'asset': 'ENJ', 'free': '0.00000000', 'locked': '0.00000000'},\n",
       " {'asset': 'ONT', 'free': '0.00000000', 'locked': '0.00000000'},\n",
       " {'asset': 'ZIL', 'free': '0.00000000', 'locked': '0.00000000'},\n",
       " {'asset': 'USDC', 'free': '0.00000000', 'locked': '0.00000000'},\n",
       " {'asset': 'XTZ', 'free': '0.00000000', 'locked': '0.00000000'},\n",
       " {'asset': 'HBAR', 'free': '0.00000000', 'locked': '0.00000000'},\n",
       " {'asset': 'OMG', 'free': '0.00000000', 'locked': '0.00000000'},\n",
       " {'asset': 'MATIC', 'free': '0.00000000', 'locked': '0.00000000'},\n",
       " {'asset': 'ONE', 'free': '0.00000000', 'locked': '0.00000000'},\n",
       " {'asset': 'VTHO', 'free': '0.00000000', 'locked': '0.00000000'},\n",
       " {'asset': 'KNC', 'free': '0.00000000', 'locked': '0.00000000'},\n",
       " {'asset': 'COMP', 'free': '0.00000000', 'locked': '0.00000000'},\n",
       " {'asset': 'REN', 'free': '0.00000000', 'locked': '0.00000000'},\n",
       " {'asset': 'MANA', 'free': '0.00000000', 'locked': '0.00000000'},\n",
       " {'asset': 'HNT', 'free': '1632.76374000', 'locked': '0.00000000'},\n",
       " {'asset': 'MKR', 'free': '0.00000000', 'locked': '0.00000000'},\n",
       " {'asset': 'DAI', 'free': '0.00000000', 'locked': '0.00000000'},\n",
       " {'asset': 'BAND', 'free': '0.00000000', 'locked': '0.00000000'},\n",
       " {'asset': 'STORJ', 'free': '0.00000000', 'locked': '0.00000000'},\n",
       " {'asset': 'SOL', 'free': '0.00000000', 'locked': '0.00000000'},\n",
       " {'asset': 'UNI', 'free': '0.00000000', 'locked': '0.00000000'},\n",
       " {'asset': 'EGLD', 'free': '0.00000000', 'locked': '0.00000000'},\n",
       " {'asset': 'PAXG', 'free': '0.00000000', 'locked': '0.00000000'},\n",
       " {'asset': 'OXT', 'free': '0.00000000', 'locked': '0.00000000'},\n",
       " {'asset': 'ZEN', 'free': '0.00000000', 'locked': '0.00000000'},\n",
       " {'asset': 'FIL', 'free': '0.00000000', 'locked': '0.00000000'},\n",
       " {'asset': 'AAVE', 'free': '0.00000000', 'locked': '0.00000000'},\n",
       " {'asset': 'GRT', 'free': '0.00000000', 'locked': '0.00000000'},\n",
       " {'asset': 'SUSHI', 'free': '0.00000000', 'locked': '0.00000000'},\n",
       " {'asset': 'AMP', 'free': '0.00000000', 'locked': '0.00000000'},\n",
       " {'asset': 'ANKR', 'free': '0.00000000', 'locked': '0.00000000'},\n",
       " {'asset': 'SHIB', 'free': '0.00', 'locked': '0.00'},\n",
       " {'asset': 'CRV', 'free': '0.00000000', 'locked': '0.00000000'},\n",
       " {'asset': 'AVAX', 'free': '0.00000000', 'locked': '0.00000000'},\n",
       " {'asset': 'AXS', 'free': '0.00000000', 'locked': '0.00000000'},\n",
       " {'asset': 'DOT', 'free': '0.00000000', 'locked': '0.00000000'},\n",
       " {'asset': 'CTSI', 'free': '0.00000000', 'locked': '0.00000000'},\n",
       " {'asset': 'YFI', 'free': '0.00000000', 'locked': '0.00000000'},\n",
       " {'asset': '1INCH', 'free': '0.00000000', 'locked': '0.00000000'},\n",
       " {'asset': 'FTM', 'free': '0.00000000', 'locked': '0.00000000'},\n",
       " {'asset': 'NEAR', 'free': '0.00000000', 'locked': '0.00000000'},\n",
       " {'asset': 'LRC', 'free': '0.00000000', 'locked': '0.00000000'},\n",
       " {'asset': 'KSHIB', 'free': '0.0000', 'locked': '0.0000'},\n",
       " {'asset': 'LPT', 'free': '0.00000000', 'locked': '0.00000000'},\n",
       " {'asset': 'SLP', 'free': '0.00000000', 'locked': '0.00000000'},\n",
       " {'asset': 'POLY', 'free': '0.00000000', 'locked': '0.00000000'},\n",
       " {'asset': 'NMR', 'free': '0.00000000', 'locked': '0.00000000'},\n",
       " {'asset': 'ANT', 'free': '0.00000000', 'locked': '0.00000000'},\n",
       " {'asset': 'AUDIO', 'free': '0.00000000', 'locked': '0.00000000'},\n",
       " {'asset': 'GALA', 'free': '0.00000000', 'locked': '0.00000000'},\n",
       " {'asset': 'CHZ', 'free': '0.00000000', 'locked': '0.00000000'},\n",
       " {'asset': 'ENS', 'free': '0.00000000', 'locked': '0.00000000'},\n",
       " {'asset': 'OGN', 'free': '0.00000000', 'locked': '0.00000000'},\n",
       " {'asset': 'XNO', 'free': '0.00000000', 'locked': '0.00000000'},\n",
       " {'asset': 'TLM', 'free': '0.00000000', 'locked': '0.00000000'},\n",
       " {'asset': 'SNX', 'free': '0.00000000', 'locked': '0.00000000'},\n",
       " {'asset': 'APE', 'free': '0.00000000', 'locked': '0.00000000'},\n",
       " {'asset': 'REQ', 'free': '0.00000000', 'locked': '0.00000000'},\n",
       " {'asset': 'WBTC', 'free': '0.00000000', 'locked': '0.00000000'},\n",
       " {'asset': 'VOXEL', 'free': '0.00000000', 'locked': '0.00000000'},\n",
       " {'asset': 'TRX', 'free': '0.00000000', 'locked': '0.00000000'},\n",
       " {'asset': 'FLOW', 'free': '0.00000000', 'locked': '0.00000000'},\n",
       " {'asset': 'FLUX', 'free': '0.00000000', 'locked': '0.00000000'},\n",
       " {'asset': 'BICO', 'free': '0.00000000', 'locked': '0.00000000'},\n",
       " {'asset': 'SPELL', 'free': '0.00000000', 'locked': '0.00000000'},\n",
       " {'asset': 'COTI', 'free': '0.00000000', 'locked': '0.00000000'},\n",
       " {'asset': 'API3', 'free': '0.00000000', 'locked': '0.00000000'},\n",
       " {'asset': 'CELR', 'free': '0.00000000', 'locked': '0.00000000'},\n",
       " {'asset': 'IMX', 'free': '0.00000000', 'locked': '0.00000000'},\n",
       " {'asset': 'JASMY', 'free': '0.00000000', 'locked': '0.00000000'},\n",
       " {'asset': 'UST', 'free': '0.00000000', 'locked': '0.00000000'},\n",
       " {'asset': 'ALICE', 'free': '0.00000000', 'locked': '0.00000000'},\n",
       " {'asset': 'DAR', 'free': '0.00000000', 'locked': '0.00000000'},\n",
       " {'asset': 'RNDR', 'free': '0.00000000', 'locked': '0.00000000'},\n",
       " {'asset': 'T', 'free': '0.00000000', 'locked': '0.00000000'},\n",
       " {'asset': 'RLC', 'free': '0.00000000', 'locked': '0.00000000'},\n",
       " {'asset': 'THETA', 'free': '0.00000000', 'locked': '0.00000000'},\n",
       " {'asset': 'BNT', 'free': '0.00000000', 'locked': '0.00000000'},\n",
       " {'asset': 'TFUEL', 'free': '0.00000000', 'locked': '0.00000000'},\n",
       " {'asset': 'GTC', 'free': '0.00000000', 'locked': '0.00000000'},\n",
       " {'asset': 'LOKA', 'free': '0.00000000', 'locked': '0.00000000'},\n",
       " {'asset': 'SRM', 'free': '0.00000000', 'locked': '0.00000000'},\n",
       " {'asset': 'ALPINE', 'free': '0.00000000', 'locked': '0.00000000'},\n",
       " {'asset': 'SANTOS', 'free': '0.00000000', 'locked': '0.00000000'},\n",
       " {'asset': 'PORTO', 'free': '0.00000000', 'locked': '0.00000000'},\n",
       " {'asset': 'LAZIO', 'free': '0.00000000', 'locked': '0.00000000'},\n",
       " {'asset': 'SKL', 'free': '0.00000000', 'locked': '0.00000000'},\n",
       " {'asset': 'OCEAN', 'free': '0.00000000', 'locked': '0.00000000'},\n",
       " {'asset': 'KSM', 'free': '0.00000000', 'locked': '0.00000000'},\n",
       " {'asset': 'VITE', 'free': '0.00000000', 'locked': '0.00000000'},\n",
       " {'asset': 'ROSE', 'free': '0.00000000', 'locked': '0.00000000'},\n",
       " {'asset': 'BOND', 'free': '0.00000000', 'locked': '0.00000000'},\n",
       " {'asset': 'WAXP', 'free': '0.00000000', 'locked': '0.00000000'},\n",
       " {'asset': 'ICP', 'free': '0.00000000', 'locked': '0.00000000'},\n",
       " {'asset': 'FET', 'free': '0.00000000', 'locked': '0.00000000'},\n",
       " {'asset': 'LTO', 'free': '0.00000000', 'locked': '0.00000000'},\n",
       " {'asset': 'RAD', 'free': '0.00000000', 'locked': '0.00000000'},\n",
       " {'asset': 'RARE', 'free': '0.00000000', 'locked': '0.00000000'},\n",
       " {'asset': 'CELO', 'free': '0.00000000', 'locked': '0.00000000'},\n",
       " {'asset': 'ACH', 'free': '0.00000000', 'locked': '0.00000000'},\n",
       " {'asset': 'OP', 'free': '0.00000000', 'locked': '0.00000000'},\n",
       " {'asset': 'CLV', 'free': '0.00000000', 'locked': '0.00000000'},\n",
       " {'asset': 'FORTH', 'free': '0.00000000', 'locked': '0.00000000'},\n",
       " {'asset': 'KDA', 'free': '0.00000000', 'locked': '0.00000000'},\n",
       " {'asset': 'SYS', 'free': '0.00000000', 'locked': '0.00000000'},\n",
       " {'asset': 'ILV', 'free': '0.00000000', 'locked': '0.00000000'},\n",
       " {'asset': 'REEF', 'free': '0.00000000', 'locked': '0.00000000'},\n",
       " {'asset': 'LDO', 'free': '0.00000000', 'locked': '0.00000000'},\n",
       " {'asset': 'TUSD', 'free': '0.00000000', 'locked': '0.00000000'},\n",
       " {'asset': 'LSK', 'free': '0.00000000', 'locked': '0.00000000'},\n",
       " {'asset': 'POND', 'free': '0.00000000', 'locked': '0.00000000'},\n",
       " {'asset': 'DGB', 'free': '0.00000000', 'locked': '0.00000000'},\n",
       " {'asset': 'BAL', 'free': '0.00000000', 'locked': '0.00000000'},\n",
       " {'asset': 'GLM', 'free': '0.00000000', 'locked': '0.00000000'},\n",
       " {'asset': 'GAL', 'free': '0.00000000', 'locked': '0.00000000'},\n",
       " {'asset': 'ASTR', 'free': '0.00000000', 'locked': '0.00000000'},\n",
       " {'asset': 'BTRST', 'free': '0.00000000', 'locked': '0.00000000'},\n",
       " {'asset': 'QNT', 'free': '0.00000000', 'locked': '0.00000000'},\n",
       " {'asset': 'SAND', 'free': '0.00000000', 'locked': '0.00000000'},\n",
       " {'asset': 'KAVA', 'free': '0.00000000', 'locked': '0.00000000'},\n",
       " {'asset': 'POLYX', 'free': '0.00000000', 'locked': '0.00000000'},\n",
       " {'asset': 'AXL', 'free': '0.00000000', 'locked': '0.00000000'},\n",
       " {'asset': 'STG', 'free': '0.00000000', 'locked': '0.00000000'},\n",
       " {'asset': 'APT', 'free': '0.00000000', 'locked': '0.00000000'},\n",
       " {'asset': 'MASK', 'free': '0.00000000', 'locked': '0.00000000'},\n",
       " {'asset': 'BOSON', 'free': '0.00000000', 'locked': '0.00000000'},\n",
       " {'asset': 'MXC', 'free': '0.00000000', 'locked': '0.00000000'},\n",
       " {'asset': 'JAM', 'free': '0.00000000', 'locked': '0.00000000'}]"
      ]
     },
     "execution_count": 10,
     "metadata": {},
     "output_type": "execute_result"
    }
   ],
   "source": [
    "account[\"balances\"] #List Account Balances"
   ]
  },
  {
   "cell_type": "code",
   "execution_count": 11,
   "id": "3cdb63d0-9caf-467c-9aad-1e491b96b6ca",
   "metadata": {},
   "outputs": [
    {
     "data": {
      "text/html": [
       "<div>\n",
       "<style scoped>\n",
       "    .dataframe tbody tr th:only-of-type {\n",
       "        vertical-align: middle;\n",
       "    }\n",
       "\n",
       "    .dataframe tbody tr th {\n",
       "        vertical-align: top;\n",
       "    }\n",
       "\n",
       "    .dataframe thead th {\n",
       "        text-align: right;\n",
       "    }\n",
       "</style>\n",
       "<table border=\"1\" class=\"dataframe\">\n",
       "  <thead>\n",
       "    <tr style=\"text-align: right;\">\n",
       "      <th></th>\n",
       "      <th>asset</th>\n",
       "      <th>free</th>\n",
       "      <th>locked</th>\n",
       "    </tr>\n",
       "  </thead>\n",
       "  <tbody>\n",
       "    <tr>\n",
       "      <th>0</th>\n",
       "      <td>BTC</td>\n",
       "      <td>0.00000000</td>\n",
       "      <td>0.00000000</td>\n",
       "    </tr>\n",
       "    <tr>\n",
       "      <th>1</th>\n",
       "      <td>ETH</td>\n",
       "      <td>0.00000246</td>\n",
       "      <td>0.00000000</td>\n",
       "    </tr>\n",
       "    <tr>\n",
       "      <th>2</th>\n",
       "      <td>USD</td>\n",
       "      <td>0.0731</td>\n",
       "      <td>0.0000</td>\n",
       "    </tr>\n",
       "    <tr>\n",
       "      <th>3</th>\n",
       "      <td>XRP</td>\n",
       "      <td>0.00000000</td>\n",
       "      <td>0.00000000</td>\n",
       "    </tr>\n",
       "    <tr>\n",
       "      <th>4</th>\n",
       "      <td>USDT</td>\n",
       "      <td>0.12797628</td>\n",
       "      <td>0.00000000</td>\n",
       "    </tr>\n",
       "    <tr>\n",
       "      <th>...</th>\n",
       "      <td>...</td>\n",
       "      <td>...</td>\n",
       "      <td>...</td>\n",
       "    </tr>\n",
       "    <tr>\n",
       "      <th>153</th>\n",
       "      <td>APT</td>\n",
       "      <td>0.00000000</td>\n",
       "      <td>0.00000000</td>\n",
       "    </tr>\n",
       "    <tr>\n",
       "      <th>154</th>\n",
       "      <td>MASK</td>\n",
       "      <td>0.00000000</td>\n",
       "      <td>0.00000000</td>\n",
       "    </tr>\n",
       "    <tr>\n",
       "      <th>155</th>\n",
       "      <td>BOSON</td>\n",
       "      <td>0.00000000</td>\n",
       "      <td>0.00000000</td>\n",
       "    </tr>\n",
       "    <tr>\n",
       "      <th>156</th>\n",
       "      <td>MXC</td>\n",
       "      <td>0.00000000</td>\n",
       "      <td>0.00000000</td>\n",
       "    </tr>\n",
       "    <tr>\n",
       "      <th>157</th>\n",
       "      <td>JAM</td>\n",
       "      <td>0.00000000</td>\n",
       "      <td>0.00000000</td>\n",
       "    </tr>\n",
       "  </tbody>\n",
       "</table>\n",
       "<p>158 rows × 3 columns</p>\n",
       "</div>"
      ],
      "text/plain": [
       "     asset        free      locked\n",
       "0      BTC  0.00000000  0.00000000\n",
       "1      ETH  0.00000246  0.00000000\n",
       "2      USD      0.0731      0.0000\n",
       "3      XRP  0.00000000  0.00000000\n",
       "4     USDT  0.12797628  0.00000000\n",
       "..     ...         ...         ...\n",
       "153    APT  0.00000000  0.00000000\n",
       "154   MASK  0.00000000  0.00000000\n",
       "155  BOSON  0.00000000  0.00000000\n",
       "156    MXC  0.00000000  0.00000000\n",
       "157    JAM  0.00000000  0.00000000\n",
       "\n",
       "[158 rows x 3 columns]"
      ]
     },
     "execution_count": 11,
     "metadata": {},
     "output_type": "execute_result"
    }
   ],
   "source": [
    "df = pd.DataFrame(account[\"balances\"]) #Convert balances from JSON into a dataframe\n",
    "df"
   ]
  },
  {
   "cell_type": "code",
   "execution_count": 12,
   "id": "4c1ffed8-453a-41eb-ad14-410cdb645c53",
   "metadata": {},
   "outputs": [
    {
     "name": "stdout",
     "output_type": "stream",
     "text": [
      "<class 'pandas.core.frame.DataFrame'>\n",
      "RangeIndex: 158 entries, 0 to 157\n",
      "Data columns (total 3 columns):\n",
      " #   Column  Non-Null Count  Dtype \n",
      "---  ------  --------------  ----- \n",
      " 0   asset   158 non-null    object\n",
      " 1   free    158 non-null    object\n",
      " 2   locked  158 non-null    object\n",
      "dtypes: object(3)\n",
      "memory usage: 3.8+ KB\n"
     ]
    }
   ],
   "source": [
    "df.info()  #Sanity check on the data types of each column"
   ]
  },
  {
   "cell_type": "code",
   "execution_count": 13,
   "id": "57b10fdb-7de8-4104-91d3-a4f298953c86",
   "metadata": {},
   "outputs": [],
   "source": [
    "df.free = pd.to_numeric(df.free, errors=\"coerce\") # Convert the free and locked columns into numbers since they should be numeric\n",
    "df.locked = pd.to_numeric(df.locked, errors=\"coerce\")"
   ]
  },
  {
   "cell_type": "code",
   "execution_count": 14,
   "id": "36cb5be6-a802-42d5-8e65-ec30a26a2068",
   "metadata": {},
   "outputs": [
    {
     "data": {
      "text/html": [
       "<div>\n",
       "<style scoped>\n",
       "    .dataframe tbody tr th:only-of-type {\n",
       "        vertical-align: middle;\n",
       "    }\n",
       "\n",
       "    .dataframe tbody tr th {\n",
       "        vertical-align: top;\n",
       "    }\n",
       "\n",
       "    .dataframe thead th {\n",
       "        text-align: right;\n",
       "    }\n",
       "</style>\n",
       "<table border=\"1\" class=\"dataframe\">\n",
       "  <thead>\n",
       "    <tr style=\"text-align: right;\">\n",
       "      <th></th>\n",
       "      <th>asset</th>\n",
       "      <th>free</th>\n",
       "      <th>locked</th>\n",
       "    </tr>\n",
       "  </thead>\n",
       "  <tbody>\n",
       "    <tr>\n",
       "      <th>1</th>\n",
       "      <td>ETH</td>\n",
       "      <td>0.000002</td>\n",
       "      <td>0.0</td>\n",
       "    </tr>\n",
       "    <tr>\n",
       "      <th>2</th>\n",
       "      <td>USD</td>\n",
       "      <td>0.073100</td>\n",
       "      <td>0.0</td>\n",
       "    </tr>\n",
       "    <tr>\n",
       "      <th>4</th>\n",
       "      <td>USDT</td>\n",
       "      <td>0.127976</td>\n",
       "      <td>0.0</td>\n",
       "    </tr>\n",
       "    <tr>\n",
       "      <th>44</th>\n",
       "      <td>HNT</td>\n",
       "      <td>1632.763740</td>\n",
       "      <td>0.0</td>\n",
       "    </tr>\n",
       "  </tbody>\n",
       "</table>\n",
       "</div>"
      ],
      "text/plain": [
       "   asset         free  locked\n",
       "1    ETH     0.000002     0.0\n",
       "2    USD     0.073100     0.0\n",
       "4   USDT     0.127976     0.0\n",
       "44   HNT  1632.763740     0.0"
      ]
     },
     "execution_count": 14,
     "metadata": {},
     "output_type": "execute_result"
    }
   ],
   "source": [
    "df.loc[df.free > 0]  #show list of columns matching criteria https://pandas.pydata.org/docs/reference/api/pandas.DataFrame.loc.html"
   ]
  },
  {
   "cell_type": "code",
   "execution_count": 15,
   "id": "0a0b07d1-863f-409c-a993-1804ededab54",
   "metadata": {},
   "outputs": [
    {
     "data": {
      "text/plain": [
       "{'asset': 'HNT', 'free': '1632.76374000', 'locked': '0.00000000'}"
      ]
     },
     "execution_count": 15,
     "metadata": {},
     "output_type": "execute_result"
    }
   ],
   "source": [
    "client.get_asset_balance(asset = \"HNT\")  #get a specific asset balance from the binance API client"
   ]
  },
  {
   "cell_type": "code",
   "execution_count": 16,
   "id": "e9ec9603-9454-4bfb-b1f2-fd96794411e4",
   "metadata": {},
   "outputs": [
    {
     "data": {
      "text/plain": [
       "1632.76374"
      ]
     },
     "execution_count": 16,
     "metadata": {},
     "output_type": "execute_result"
    }
   ],
   "source": [
    "float(client.get_asset_balance(asset = \"HNT\")[\"free\"]) #get the free amount of an asset and convert to float"
   ]
  },
  {
   "cell_type": "code",
   "execution_count": 17,
   "id": "625728e2-2431-45e1-aade-63d43162c94d",
   "metadata": {},
   "outputs": [
    {
     "data": {
      "text/plain": [
       "{'code': 200, 'msg': '', 'snapshotVos': []}"
      ]
     },
     "execution_count": 17,
     "metadata": {},
     "output_type": "execute_result"
    }
   ],
   "source": [
    "snap = client.get_account_snapshot(type = \"SPOT\") #Binance has daily account snapshots with account main points. Retrieve that for viewing\n",
    "snap"
   ]
  },
  {
   "cell_type": "code",
   "execution_count": 18,
   "id": "d46542dc-3d1f-418b-a2c8-6a76d40f1e55",
   "metadata": {},
   "outputs": [
    {
     "data": {
      "text/html": [
       "<div>\n",
       "<style scoped>\n",
       "    .dataframe tbody tr th:only-of-type {\n",
       "        vertical-align: middle;\n",
       "    }\n",
       "\n",
       "    .dataframe tbody tr th {\n",
       "        vertical-align: top;\n",
       "    }\n",
       "\n",
       "    .dataframe thead th {\n",
       "        text-align: right;\n",
       "    }\n",
       "</style>\n",
       "<table border=\"1\" class=\"dataframe\">\n",
       "  <thead>\n",
       "    <tr style=\"text-align: right;\">\n",
       "      <th></th>\n",
       "    </tr>\n",
       "  </thead>\n",
       "  <tbody>\n",
       "  </tbody>\n",
       "</table>\n",
       "</div>"
      ],
      "text/plain": [
       "Empty DataFrame\n",
       "Columns: []\n",
       "Index: []"
      ]
     },
     "execution_count": 18,
     "metadata": {},
     "output_type": "execute_result"
    }
   ],
   "source": [
    "snap = pd.json_normalize(snap[\"snapshotVos\"]) #convert the snapshot into a normalized dataframe\n",
    "snap"
   ]
  },
  {
   "cell_type": "code",
   "execution_count": 20,
   "id": "ca3c10e6-7438-4abc-8a33-de9886c4e299",
   "metadata": {},
   "outputs": [
    {
     "data": {
      "text/plain": [
       "{'symbol': 'BUSDUSDT',\n",
       " 'status': 'TRADING',\n",
       " 'baseAsset': 'BUSD',\n",
       " 'baseAssetPrecision': 8,\n",
       " 'quoteAsset': 'USDT',\n",
       " 'quotePrecision': 8,\n",
       " 'quoteAssetPrecision': 8,\n",
       " 'baseCommissionPrecision': 8,\n",
       " 'quoteCommissionPrecision': 8,\n",
       " 'orderTypes': ['LIMIT',\n",
       "  'LIMIT_MAKER',\n",
       "  'MARKET',\n",
       "  'STOP_LOSS_LIMIT',\n",
       "  'TAKE_PROFIT_LIMIT'],\n",
       " 'icebergAllowed': True,\n",
       " 'ocoAllowed': True,\n",
       " 'quoteOrderQtyMarketAllowed': True,\n",
       " 'allowTrailingStop': True,\n",
       " 'cancelReplaceAllowed': True,\n",
       " 'isSpotTradingAllowed': True,\n",
       " 'isMarginTradingAllowed': False,\n",
       " 'filters': [{'filterType': 'PRICE_FILTER',\n",
       "   'minPrice': '0.00010000',\n",
       "   'maxPrice': '1000.00000000',\n",
       "   'tickSize': '0.00010000'},\n",
       "  {'filterType': 'PERCENT_PRICE',\n",
       "   'multiplierUp': '5',\n",
       "   'multiplierDown': '0.2',\n",
       "   'avgPriceMins': 5},\n",
       "  {'filterType': 'LOT_SIZE',\n",
       "   'minQty': '0.01000000',\n",
       "   'maxQty': '9000000.00000000',\n",
       "   'stepSize': '0.01000000'},\n",
       "  {'filterType': 'MIN_NOTIONAL',\n",
       "   'minNotional': '10.00000000',\n",
       "   'applyToMarket': True,\n",
       "   'avgPriceMins': 5},\n",
       "  {'filterType': 'ICEBERG_PARTS', 'limit': 10},\n",
       "  {'filterType': 'MARKET_LOT_SIZE',\n",
       "   'minQty': '0.00000000',\n",
       "   'maxQty': '1804138.21485059',\n",
       "   'stepSize': '0.00000000'},\n",
       "  {'filterType': 'TRAILING_DELTA',\n",
       "   'minTrailingAboveDelta': 10,\n",
       "   'maxTrailingAboveDelta': 2000,\n",
       "   'minTrailingBelowDelta': 10,\n",
       "   'maxTrailingBelowDelta': 2000},\n",
       "  {'filterType': 'MAX_NUM_ORDERS', 'maxNumOrders': 200},\n",
       "  {'filterType': 'MAX_NUM_ALGO_ORDERS', 'maxNumAlgoOrders': 5}],\n",
       " 'permissions': ['SPOT'],\n",
       " 'defaultSelfTradePreventionMode': 'NONE',\n",
       " 'allowedSelfTradePreventionModes': ['NONE']}"
      ]
     },
     "execution_count": 20,
     "metadata": {},
     "output_type": "execute_result"
    }
   ],
   "source": [
    "client.get_symbol_info(symbol = \"BUSDUSDT\")"
   ]
  },
  {
   "cell_type": "code",
   "execution_count": 24,
   "id": "97b6c14b-fdbc-4f36-99fb-5cf0f5cdb653",
   "metadata": {},
   "outputs": [
    {
     "data": {
      "text/plain": [
       "{'symbol': 'HNTUSDT', 'price': '1.87858000'}"
      ]
     },
     "execution_count": 24,
     "metadata": {},
     "output_type": "execute_result"
    }
   ],
   "source": [
    "client.get_symbol_ticker(symbol = \"HNTUSDT\") # get current ticker price"
   ]
  },
  {
   "cell_type": "code",
   "execution_count": 28,
   "id": "ff9c8508-f341-4063-8f88-ca05e8cf7b00",
   "metadata": {},
   "outputs": [
    {
     "data": {
      "text/html": [
       "<div>\n",
       "<style scoped>\n",
       "    .dataframe tbody tr th:only-of-type {\n",
       "        vertical-align: middle;\n",
       "    }\n",
       "\n",
       "    .dataframe tbody tr th {\n",
       "        vertical-align: top;\n",
       "    }\n",
       "\n",
       "    .dataframe thead th {\n",
       "        text-align: right;\n",
       "    }\n",
       "</style>\n",
       "<table border=\"1\" class=\"dataframe\">\n",
       "  <thead>\n",
       "    <tr style=\"text-align: right;\">\n",
       "      <th></th>\n",
       "      <th>symbol</th>\n",
       "      <th>price</th>\n",
       "    </tr>\n",
       "  </thead>\n",
       "  <tbody>\n",
       "    <tr>\n",
       "      <th>0</th>\n",
       "      <td>BTCUSD</td>\n",
       "      <td>16819.0300</td>\n",
       "    </tr>\n",
       "    <tr>\n",
       "      <th>1</th>\n",
       "      <td>ETHUSD</td>\n",
       "      <td>1216.7100</td>\n",
       "    </tr>\n",
       "    <tr>\n",
       "      <th>2</th>\n",
       "      <td>XRPUSD</td>\n",
       "      <td>0.2970</td>\n",
       "    </tr>\n",
       "    <tr>\n",
       "      <th>3</th>\n",
       "      <td>BCHUSD</td>\n",
       "      <td>102.1900</td>\n",
       "    </tr>\n",
       "    <tr>\n",
       "      <th>4</th>\n",
       "      <td>LTCUSD</td>\n",
       "      <td>65.6700</td>\n",
       "    </tr>\n",
       "    <tr>\n",
       "      <th>...</th>\n",
       "      <td>...</td>\n",
       "      <td>...</td>\n",
       "    </tr>\n",
       "    <tr>\n",
       "      <th>336</th>\n",
       "      <td>ADAUSDC</td>\n",
       "      <td>0.25660000</td>\n",
       "    </tr>\n",
       "    <tr>\n",
       "      <th>337</th>\n",
       "      <td>MXCUSDT</td>\n",
       "      <td>0.02755000</td>\n",
       "    </tr>\n",
       "    <tr>\n",
       "      <th>338</th>\n",
       "      <td>MXCUSD</td>\n",
       "      <td>0.0358</td>\n",
       "    </tr>\n",
       "    <tr>\n",
       "      <th>339</th>\n",
       "      <td>JAMUSDT</td>\n",
       "      <td>0.00212000</td>\n",
       "    </tr>\n",
       "    <tr>\n",
       "      <th>340</th>\n",
       "      <td>JAMUSD</td>\n",
       "      <td>0.0021</td>\n",
       "    </tr>\n",
       "  </tbody>\n",
       "</table>\n",
       "<p>341 rows × 2 columns</p>\n",
       "</div>"
      ],
      "text/plain": [
       "      symbol       price\n",
       "0     BTCUSD  16819.0300\n",
       "1     ETHUSD   1216.7100\n",
       "2     XRPUSD      0.2970\n",
       "3     BCHUSD    102.1900\n",
       "4     LTCUSD     65.6700\n",
       "..       ...         ...\n",
       "336  ADAUSDC  0.25660000\n",
       "337  MXCUSDT  0.02755000\n",
       "338   MXCUSD      0.0358\n",
       "339  JAMUSDT  0.00212000\n",
       "340   JAMUSD      0.0021\n",
       "\n",
       "[341 rows x 2 columns]"
      ]
     },
     "execution_count": 28,
     "metadata": {},
     "output_type": "execute_result"
    }
   ],
   "source": [
    "prices = client.get_all_tickers() #get all tickers and create a dataframe for them\n",
    "df = pd.DataFrame(prices)\n",
    "df"
   ]
  },
  {
   "cell_type": "code",
   "execution_count": 30,
   "id": "c0a36a55-89fd-4031-9843-1bd267a22b6a",
   "metadata": {},
   "outputs": [
    {
     "data": {
      "text/html": [
       "<div>\n",
       "<style scoped>\n",
       "    .dataframe tbody tr th:only-of-type {\n",
       "        vertical-align: middle;\n",
       "    }\n",
       "\n",
       "    .dataframe tbody tr th {\n",
       "        vertical-align: top;\n",
       "    }\n",
       "\n",
       "    .dataframe thead th {\n",
       "        text-align: right;\n",
       "    }\n",
       "</style>\n",
       "<table border=\"1\" class=\"dataframe\">\n",
       "  <thead>\n",
       "    <tr style=\"text-align: right;\">\n",
       "      <th></th>\n",
       "      <th>symbol</th>\n",
       "      <th>price</th>\n",
       "    </tr>\n",
       "  </thead>\n",
       "  <tbody>\n",
       "    <tr>\n",
       "      <th>0</th>\n",
       "      <td>BTCUSD</td>\n",
       "      <td>16819.0300</td>\n",
       "    </tr>\n",
       "    <tr>\n",
       "      <th>6</th>\n",
       "      <td>BTCUSDT</td>\n",
       "      <td>16813.56000000</td>\n",
       "    </tr>\n",
       "    <tr>\n",
       "      <th>35</th>\n",
       "      <td>BTCBUSD</td>\n",
       "      <td>16823.90000000</td>\n",
       "    </tr>\n",
       "    <tr>\n",
       "      <th>107</th>\n",
       "      <td>BTCUSDC</td>\n",
       "      <td>16818.00000000</td>\n",
       "    </tr>\n",
       "  </tbody>\n",
       "</table>\n",
       "</div>"
      ],
      "text/plain": [
       "      symbol           price\n",
       "0     BTCUSD      16819.0300\n",
       "6    BTCUSDT  16813.56000000\n",
       "35   BTCBUSD  16823.90000000\n",
       "107  BTCUSDC  16818.00000000"
      ]
     },
     "execution_count": 30,
     "metadata": {},
     "output_type": "execute_result"
    }
   ],
   "source": [
    "df[df.symbol.str.contains(\"BTC\") & df.symbol.str.contains(\"USD\")]"
   ]
  },
  {
   "cell_type": "code",
   "execution_count": 31,
   "id": "75baa34d-acc4-4291-a219-26bf7a397bb0",
   "metadata": {},
   "outputs": [
    {
     "data": {
      "text/plain": [
       "{'symbol': 'BTCUSDT',\n",
       " 'priceChange': '11.29000000',\n",
       " 'priceChangePercent': '0.067',\n",
       " 'weightedAvgPrice': '16837.96301381',\n",
       " 'prevClosePrice': '16807.41000000',\n",
       " 'lastPrice': '16821.24000000',\n",
       " 'lastQty': '0.00579000',\n",
       " 'bidPrice': '16821.34000000',\n",
       " 'bidQty': '0.00594300',\n",
       " 'askPrice': '16824.49000000',\n",
       " 'askQty': '0.00594300',\n",
       " 'openPrice': '16809.95000000',\n",
       " 'highPrice': '16945.58000000',\n",
       " 'lowPrice': '16761.57000000',\n",
       " 'volume': '934.94689200',\n",
       " 'quoteVolume': '15742601.18737248',\n",
       " 'openTime': 1671763699326,\n",
       " 'closeTime': 1671850099326,\n",
       " 'firstId': 17521778,\n",
       " 'lastId': 17541913,\n",
       " 'count': 20136}"
      ]
     },
     "execution_count": 31,
     "metadata": {},
     "output_type": "execute_result"
    }
   ],
   "source": [
    "last24 = client.get_ticker(symbol = \"BTCUSDT\") #24 Price change statistic\n",
    "last24"
   ]
  },
  {
   "cell_type": "code",
   "execution_count": 34,
   "id": "7a81719b-de65-4b28-8971-3d8aa15ff1f3",
   "metadata": {},
   "outputs": [
    {
     "data": {
      "text/plain": [
       "Timestamp('2022-12-23 02:48:19.326000')"
      ]
     },
     "execution_count": 34,
     "metadata": {},
     "output_type": "execute_result"
    }
   ],
   "source": [
    "pd.to_datetime(last24[\"openTime\"], unit = \"ms\") # Show datetime in a readable format"
   ]
  },
  {
   "cell_type": "code",
   "execution_count": 39,
   "id": "4d6b72b1-a1f0-433e-9796-e2d0e6295a42",
   "metadata": {},
   "outputs": [
    {
     "data": {
      "text/plain": [
       "0.06716260310113409"
      ]
     },
     "execution_count": 39,
     "metadata": {},
     "output_type": "execute_result"
    }
   ],
   "source": [
    "(float(last24[\"lastPrice\"])/float(last24[\"openPrice\"]) -1) *100"
   ]
  },
  {
   "cell_type": "code",
   "execution_count": null,
   "id": "6892908e-29f7-4288-8ce5-4bfa888d9b75",
   "metadata": {},
   "outputs": [],
   "source": []
  }
 ],
 "metadata": {
  "kernelspec": {
   "display_name": "Python 3 (ipykernel)",
   "language": "python",
   "name": "python3"
  },
  "language_info": {
   "codemirror_mode": {
    "name": "ipython",
    "version": 3
   },
   "file_extension": ".py",
   "mimetype": "text/x-python",
   "name": "python",
   "nbconvert_exporter": "python",
   "pygments_lexer": "ipython3",
   "version": "3.10.4"
  }
 },
 "nbformat": 4,
 "nbformat_minor": 5
}

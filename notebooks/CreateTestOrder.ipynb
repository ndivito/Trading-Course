{
 "cells": [
  {
   "cell_type": "code",
   "execution_count": 2,
   "id": "46dc5480-5d9f-4044-94eb-75e491db2b92",
   "metadata": {},
   "outputs": [],
   "source": [
    "import os\n",
    "import pandas as pd\n",
    "from binance.client import Client\n",
    "from binance import ThreadedWebsocketManager\n",
    "from datetime import datetime, timedelta"
   ]
  },
  {
   "cell_type": "code",
   "execution_count": 3,
   "id": "8975c73a-62d6-43b8-a80b-0d1d5ae1d21d",
   "metadata": {
    "tags": []
   },
   "outputs": [],
   "source": [
    "API_KEY = os.getenv('BINANCE_API')\n",
    "API_SECRET = os.getenv('BINANCE_SECRET')"
   ]
  },
  {
   "cell_type": "code",
   "execution_count": 4,
   "id": "e2c74b38-8736-43c6-aecf-4b966553ef43",
   "metadata": {},
   "outputs": [],
   "source": [
    "client = Client(api_key = API_KEY, api_secret = API_SECRET, tld = \"us\")"
   ]
  },
  {
   "cell_type": "code",
   "execution_count": 5,
   "id": "c98a4c42-8608-496e-a229-c66b8c8b84a4",
   "metadata": {},
   "outputs": [
    {
     "data": {
      "text/plain": [
       "{}"
      ]
     },
     "execution_count": 5,
     "metadata": {},
     "output_type": "execute_result"
    }
   ],
   "source": [
    "client.ping()"
   ]
  },
  {
   "cell_type": "code",
   "execution_count": 6,
   "id": "11e4b6d9-7f56-427e-a9cf-981f28ecf951",
   "metadata": {},
   "outputs": [
    {
     "data": {
      "text/plain": [
       "{'serverTime': 1672685065615}"
      ]
     },
     "execution_count": 6,
     "metadata": {},
     "output_type": "execute_result"
    }
   ],
   "source": [
    "client.get_server_time()"
   ]
  },
  {
   "cell_type": "code",
   "execution_count": 7,
   "id": "0c8a08d0-4502-40df-a0b9-22912e4b5bdb",
   "metadata": {
    "tags": []
   },
   "outputs": [
    {
     "data": {
      "text/plain": [
       "'SPOT'"
      ]
     },
     "execution_count": 7,
     "metadata": {},
     "output_type": "execute_result"
    }
   ],
   "source": [
    "account = client.get_account()\n",
    "account[\"accountType\"]  #Account Type"
   ]
  },
  {
   "cell_type": "code",
   "execution_count": 8,
   "id": "313e0690-2893-4f85-8a8d-2af2500df556",
   "metadata": {},
   "outputs": [],
   "source": [
    "# place a test market buy order, to place an actual order use the create_order function\n",
    "order = client.create_test_order(symbol = \"BTCUSD\", side = \"BUY\", type = \"MARKET\", quantity = 0.1)"
   ]
  },
  {
   "cell_type": "code",
   "execution_count": 9,
   "id": "58c0041a-bdb2-4aa9-8c17-b9c2eaf750d7",
   "metadata": {},
   "outputs": [
    {
     "data": {
      "text/plain": [
       "{}"
      ]
     },
     "execution_count": 9,
     "metadata": {},
     "output_type": "execute_result"
    }
   ],
   "source": [
    "order"
   ]
  }
 ],
 "metadata": {
  "kernelspec": {
   "display_name": "Python 3 (ipykernel)",
   "language": "python",
   "name": "python3"
  },
  "language_info": {
   "codemirror_mode": {
    "name": "ipython",
    "version": 3
   },
   "file_extension": ".py",
   "mimetype": "text/x-python",
   "name": "python",
   "nbconvert_exporter": "python",
   "pygments_lexer": "ipython3",
   "version": "3.10.4"
  }
 },
 "nbformat": 4,
 "nbformat_minor": 5
}
